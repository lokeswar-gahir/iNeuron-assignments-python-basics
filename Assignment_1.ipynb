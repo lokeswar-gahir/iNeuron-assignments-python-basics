{
 "cells": [
  {
   "cell_type": "markdown",
   "id": "82a20289",
   "metadata": {},
   "source": [
    "### 1. In the below elements which of them are values or an expression? eg:- values can be integer or string and expressions will be mathematical operators.\n",
    "\n",
    "Answer:\n",
    "\n",
    " \\* : Expression\n",
    " \n",
    " 'hello' : Value\n",
    " \n",
    " -87.8 : Value \n",
    " \n",
    "\n",
    " \\- : Expression\n",
    " \n",
    " / : Expression \n",
    " \n",
    " \\+ : Expression \n",
    " \n",
    " 6 : Value"
   ]
  },
  {
   "cell_type": "markdown",
   "id": "ce11b921",
   "metadata": {},
   "source": [
    "### 2. What is the difference between string and variable?\n",
    "\n",
    "Answer:\n",
    "\n",
    " Variable : A variable is the name of some memory location which holds some values and that values may change.\n",
    " \n",
    " String : It is a datatype and it is enclosed with either single quotes(' ') or double quotes(\" \")."
   ]
  },
  {
   "cell_type": "markdown",
   "id": "a2c8aade",
   "metadata": {},
   "source": [
    "### 3. Describe three different data types.\n",
    "\n",
    "Answer:\n",
    "\n",
    " integer : The variable having this datatype holds the only the numeric data without any decimal.\n",
    " \n",
    " list : The variable of list datatype stores any number of elements within it. It can store any datatype like - integer, float, string, dictionary etc.\n",
    " \n",
    " boolean : The variable with this datatype can only store either 'True' or 'False' in '1' or '0' format respectively.\n",
    " "
   ]
  },
  {
   "cell_type": "markdown",
   "id": "8917702e",
   "metadata": {},
   "source": [
    "### 4. What is an expression made up of? What do all expressions do?\n",
    "\n",
    "Answer:<br>\n",
    " Experssions are made up of operaters and operands.<br>\n",
    " which do some mathematical or logical operations."
   ]
  },
  {
   "cell_type": "markdown",
   "id": "782a44b3",
   "metadata": {},
   "source": [
    "### 5. This assignment statements, like spam = 10. What is the difference between an expression and a statement?\n",
    "Answer:\n",
    "\n",
    "Here spam = 10 is an assignment statement not an expression.\n",
    "- Statement can be a piece of code that has a meaning.\n",
    "- Expression is something which does some mathematical or logical operations."
   ]
  },
  {
   "cell_type": "markdown",
   "id": "4fbfa44c",
   "metadata": {},
   "source": [
    "### 6. After running the following code, what does the variable bacon contain?<br>bacon = 22<br>bacon + 1\n",
    "\n",
    "Answers:<br>\n",
    "After running the above code the variable 'bacon' contains the value 22. Beacuse after adding 1 to the bacon, added value is not assigned to bacon again."
   ]
  },
  {
   "cell_type": "markdown",
   "id": "18b75fe5",
   "metadata": {},
   "source": [
    "### 7. What should the values of the following two terms be?<br>'spam' + 'spamspam'<br>'spam' * 3\n",
    "\n",
    "Answer:<br>\n",
    " 'spam' + 'spamspam' : (output)-> 'spamspamspam'\n",
    " \n",
    " 'spam' * 3 : (output)-> 'spamspamspam'\n",
    " "
   ]
  },
  {
   "cell_type": "markdown",
   "id": "c821108d",
   "metadata": {},
   "source": [
    "### 8. Why is eggs a valid variable name while 100 is invalid?\n",
    "\n",
    "Answer:<br>\n",
    " According to variable declaration rules in python a variable name can be start with an alphabet, underscore(_) and can not start with any number or any special symbol.\n",
    " \n",
    " eggs : It is a valid variable name, because its name is starting with an alphabet('e').\n",
    " 100 : It is not a valid variable name, because a variable name cannot start with a number. It will throw an syntax error."
   ]
  },
  {
   "cell_type": "markdown",
   "id": "f58fa239",
   "metadata": {},
   "source": [
    "### 9. What three functions can be used to get the integer, floating-point number, or string version of a value?\n",
    "\n",
    "Answer:<br>\n",
    " int() : it is used to get the integer value\n",
    " \n",
    " float() : it is used to get the decimal value\n",
    " \n",
    " str() : it is used to get the string value"
   ]
  },
  {
   "cell_type": "markdown",
   "id": "06ed409b",
   "metadata": {},
   "source": [
    "### 10. Why does this expression cause an error? How can you fix it?<br>'I have eaten ' + 99 + ' burritos.'\n",
    "\n",
    "Answer:<br>\n",
    " Here we are trying to concatinate strings with numerical value, which will throw an error. Because we cannot concatinate strings with integers or floating point numbers. Here 99 is an integer.\n",
    " \n",
    " We can convert the integer datatype to string using str() or 99 can be enclosed with single or double quotes and we will be at the solution."
   ]
  }
 ],
 "metadata": {
  "kernelspec": {
   "display_name": "Python 3 (ipykernel)",
   "language": "python",
   "name": "python3"
  },
  "language_info": {
   "codemirror_mode": {
    "name": "ipython",
    "version": 3
   },
   "file_extension": ".py",
   "mimetype": "text/x-python",
   "name": "python",
   "nbconvert_exporter": "python",
   "pygments_lexer": "ipython3",
   "version": "3.10.6"
  }
 },
 "nbformat": 4,
 "nbformat_minor": 5
}
