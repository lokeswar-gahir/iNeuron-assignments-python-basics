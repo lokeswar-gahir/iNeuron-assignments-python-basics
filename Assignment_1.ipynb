{
 "cells": [
  {
   "cell_type": "raw",
   "id": "be451ed5",
   "metadata": {},
   "source": [
    "1. In the below elements which of them are values or an expression? eg:- values can be integer or string and expressions will be mathematical operators.\n",
    "\n",
    "Answer:\n",
    " * : Expression\n",
    " \n",
    " 'hello' : Value\n",
    " \n",
    " -87.8 : Value\n",
    " \n",
    " - : Expression\n",
    " \n",
    " / : Expression\n",
    " \n",
    " + : Expression\n",
    " \n",
    " 6 : Value\n",
    " "
   ]
  },
  {
   "cell_type": "raw",
   "id": "352bac5c",
   "metadata": {},
   "source": [
    "2. What is the difference between string and variable?\n",
    "\n",
    "Answer: \n",
    " Variable : A variable is the name of some memory location which holds some values and that values may change.\n",
    " String : It is a datatype and it is enclosed with either single quotes('') or double quotes(\"\")."
   ]
  },
  {
   "cell_type": "raw",
   "id": "50bb0033",
   "metadata": {},
   "source": [
    "3. Describe three different data types.\n",
    "\n",
    "Answer:\n",
    " integer : The variable having this datatype holds the only the numeric data without any decimal.\n",
    " \n",
    " list : The variable of list datatype stores any number of elements within it. It can store any datatype like - integer, float, string, dictionary etc.\n",
    " \n",
    " boolean : The variable with this datatype can only store either 'True' or 'False' in '1' or '0' format respectively.\n",
    " "
   ]
  },
  {
   "cell_type": "raw",
   "id": "4b1717b5",
   "metadata": {},
   "source": [
    "4. What is an expression made up of? What do all expressions do?\n",
    "\n",
    "Answer: \n",
    " Experssions are derived from mathematics, which does some mathematical operations."
   ]
  },
  {
   "cell_type": "raw",
   "id": "0e579331",
   "metadata": {},
   "source": [
    "5. This assignment statements, like spam = 10. What is the difference between an expression and a statement?\n",
    "\n",
    "Answer:\n",
    " "
   ]
  },
  {
   "cell_type": "raw",
   "id": "98b1d11c",
   "metadata": {},
   "source": [
    "6. After running the following code, what does the variable bacon contain?\n",
    "bacon = 22\n",
    "bacon + 1\n",
    "\n",
    "Answers:\n",
    "After running the above code the variable 'bacon' contains the value 22. Beacuse after adding 1 to the bacon, added value is not assigned to bacon again."
   ]
  },
  {
   "cell_type": "raw",
   "id": "d9f819ae",
   "metadata": {},
   "source": [
    "7. What should the values of the following two terms be?\n",
    "'spam' + 'spamspam'\n",
    "'spam' * 3\n",
    "\n",
    "Answer:\n",
    " 'spam' + 'spamspam' : (output)-> 'spamspamspam'\n",
    " \n",
    " 'spam' * 3 : (output)-> 'spamspamspam'\n",
    " "
   ]
  },
  {
   "cell_type": "raw",
   "id": "3d7ce53b",
   "metadata": {},
   "source": [
    "8. Why is eggs a valid variable name while 100 is invalid?\n",
    "\n",
    "Answer:\n",
    " According to variable declaration rules in python a variable name can be start with an alphabet, underscore(_) and can not start with any number or any special symbol.\n",
    " \n",
    " eggs : It is a valid variable name, because its name is starting with an alphabet('e').\n",
    " 100 : It is not a valid variable name, because a variable name cannot start with a number. It will throw an invalid syntax error."
   ]
  },
  {
   "cell_type": "raw",
   "id": "a81b22a7",
   "metadata": {},
   "source": [
    "9. What three functions can be used to get the integer, floating-point number, or string version of a value?\n",
    "\n",
    "Answer:\n",
    " int() : it is used to get the integer value\n",
    " float() : it is used to get the decimal value\n",
    " str() : it is used to get the string value"
   ]
  },
  {
   "cell_type": "raw",
   "id": "f0016bb6",
   "metadata": {},
   "source": [
    "10. Why does this expression cause an error? How can you fix it?\n",
    "'I have eaten ' + 99 + ' burritos.'\n",
    "\n",
    "Answer:\n",
    " Here we are trying to concatinate strings with numerical value, which will throw an error. Because we cannot concatinate strings with integers or floating point numbers. Here 99 is an integer.\n",
    " \n",
    " We can convert the integer datatype to string using str() or 99 can be enclosed with single or double quotes and we will be at the solution."
   ]
  },
  {
   "cell_type": "code",
   "execution_count": null,
   "id": "eb15d73e",
   "metadata": {},
   "outputs": [],
   "source": []
  }
 ],
 "metadata": {
  "kernelspec": {
   "display_name": "Python 3 (ipykernel)",
   "language": "python",
   "name": "python3"
  },
  "language_info": {
   "codemirror_mode": {
    "name": "ipython",
    "version": 3
   },
   "file_extension": ".py",
   "mimetype": "text/x-python",
   "name": "python",
   "nbconvert_exporter": "python",
   "pygments_lexer": "ipython3",
   "version": "3.10.6"
  }
 },
 "nbformat": 4,
 "nbformat_minor": 5
}
