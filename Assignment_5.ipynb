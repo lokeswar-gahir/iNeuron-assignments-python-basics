{
 "cells": [
  {
   "cell_type": "markdown",
   "id": "dc36cf55",
   "metadata": {},
   "source": [
    "### 1. What does an empty dictionary&#39;s code look like?"
   ]
  },
  {
   "cell_type": "code",
   "execution_count": 1,
   "id": "66c155c5",
   "metadata": {},
   "outputs": [
    {
     "data": {
      "text/plain": [
       "dict"
      ]
     },
     "execution_count": 1,
     "metadata": {},
     "output_type": "execute_result"
    }
   ],
   "source": [
    "dictionary = {}\n",
    "type(dictionary)"
   ]
  },
  {
   "cell_type": "markdown",
   "id": "18a06061",
   "metadata": {},
   "source": [
    "### 2. What is the value of a dictionary value with the key &#39;foo&#39; and the value 42?\n",
    "\n",
    "The dictionary will be : {\"foo\": 42}"
   ]
  },
  {
   "cell_type": "markdown",
   "id": "0fb705ed",
   "metadata": {},
   "source": [
    "### 3. What is the most significant distinction between a dictionary and a list?\n",
    "\n",
    "Where list stores the elememts with values, dictionary stores the elements in key-value pairs."
   ]
  },
  {
   "cell_type": "markdown",
   "id": "a2b658b8",
   "metadata": {},
   "source": [
    "### 4. What happens if you try to access spam[&#39;foo&#39;] if spam is {&#39;bar&#39;: 100}?\n",
    "\n",
    "Doing this will throw an keyError."
   ]
  },
  {
   "cell_type": "markdown",
   "id": "bc4b8eac",
   "metadata": {},
   "source": [
    "### 5. If a dictionary is stored in spam, what is the difference between the expressions &#39;cat&#39; in spam and &#39;cat&#39; in spam.keys()?\n",
    "\n",
    "Technically python does same thing internally, where it searches for wheather 'cat' key is available in spam dictionary or not.<br>\n",
    "Finally it will return True if 'cat' is present and False otherwise."
   ]
  },
  {
   "cell_type": "markdown",
   "id": "9267271d",
   "metadata": {},
   "source": [
    "### 6. If a dictionary is stored in spam, what is the difference between the expressions &#39;cat&#39; in spam and &#39;cat&#39; in spam.values()?\n",
    "\n",
    "\"cat\" in spam : This will search for 'cat' in the key of the spam dictionary<br>\n",
    "\"cat\" in spam.values() : This will search for 'cat' in all the values of the spam dictionary "
   ]
  },
  {
   "cell_type": "markdown",
   "id": "fb961605",
   "metadata": {},
   "source": [
    "### 7. What is a shortcut for the following code?<br><br>if &#39;color&#39; not in spam:<br>spam[&#39;color&#39;] = &#39;black&#39;\n",
    "\n",
    "The shortcut will be : spam.setdefault('color','black')"
   ]
  },
  {
   "cell_type": "markdown",
   "id": "f6b498a9",
   "metadata": {},
   "source": [
    "### 8. How do you &quot;pretty print&quot; dictionary values using which module and function?\n",
    "\n",
    "Using 'pprint.pprint()' function from 'pprint' module dictionary can be pretty print."
   ]
  }
 ],
 "metadata": {
  "kernelspec": {
   "display_name": "Python 3 (ipykernel)",
   "language": "python",
   "name": "python3"
  },
  "language_info": {
   "codemirror_mode": {
    "name": "ipython",
    "version": 3
   },
   "file_extension": ".py",
   "mimetype": "text/x-python",
   "name": "python",
   "nbconvert_exporter": "python",
   "pygments_lexer": "ipython3",
   "version": "3.10.6"
  }
 },
 "nbformat": 4,
 "nbformat_minor": 5
}
