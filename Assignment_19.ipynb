{
 "cells": [
  {
   "cell_type": "markdown",
   "id": "d7c174ff",
   "metadata": {},
   "source": [
    "### 1. Make a class called Thing with no contents and print it. Then, create an object called example from this class and also print it. Are the printed values the same or different?"
   ]
  },
  {
   "cell_type": "code",
   "execution_count": 1,
   "id": "5587005c",
   "metadata": {},
   "outputs": [],
   "source": [
    "class Thing:\n",
    "    pass"
   ]
  },
  {
   "cell_type": "code",
   "execution_count": 2,
   "id": "c22e1ecc",
   "metadata": {},
   "outputs": [
    {
     "name": "stdout",
     "output_type": "stream",
     "text": [
      "<class '__main__.Thing'>\n"
     ]
    }
   ],
   "source": [
    "print(Thing)"
   ]
  },
  {
   "cell_type": "code",
   "execution_count": 3,
   "id": "0b1d6235",
   "metadata": {},
   "outputs": [
    {
     "name": "stdout",
     "output_type": "stream",
     "text": [
      "<__main__.Thing object at 0x00000165AF325960>\n"
     ]
    }
   ],
   "source": [
    "example = Thing()\n",
    "print(example)"
   ]
  },
  {
   "cell_type": "markdown",
   "id": "802c5b81",
   "metadata": {},
   "source": [
    "Printed values are different."
   ]
  },
  {
   "cell_type": "markdown",
   "id": "8e3ffb54",
   "metadata": {},
   "source": [
    "### 2. Create a new class called Thing2 and add the value &#39;abc&#39; to the letters class attribute. Letters should be printed."
   ]
  },
  {
   "cell_type": "code",
   "execution_count": 4,
   "id": "500fa70c",
   "metadata": {},
   "outputs": [],
   "source": [
    "class Thing2:\n",
    "    letter = \"abc\""
   ]
  },
  {
   "cell_type": "code",
   "execution_count": 5,
   "id": "48f3ae22",
   "metadata": {},
   "outputs": [
    {
     "name": "stdout",
     "output_type": "stream",
     "text": [
      "abc\n"
     ]
    }
   ],
   "source": [
    "print(Thing2.letter)"
   ]
  },
  {
   "cell_type": "markdown",
   "id": "ec02b31c",
   "metadata": {},
   "source": [
    "### 3. Make yet another class called, of course, Thing3. This time, assign the value &#39;xyz&#39; to an instance (object) attribute called letters. Print letters. Do you need to make an object from the class to do this?"
   ]
  },
  {
   "cell_type": "code",
   "execution_count": 6,
   "id": "71c51174",
   "metadata": {},
   "outputs": [],
   "source": [
    "class Thing3:\n",
    "    def __init__(self):\n",
    "        self.letters = \"xyz\""
   ]
  },
  {
   "cell_type": "code",
   "execution_count": 7,
   "id": "8cd7b39e",
   "metadata": {},
   "outputs": [
    {
     "data": {
      "text/plain": [
       "'xyz'"
      ]
     },
     "execution_count": 7,
     "metadata": {},
     "output_type": "execute_result"
    }
   ],
   "source": [
    "ex = Thing3()\n",
    "ex.letters"
   ]
  },
  {
   "cell_type": "markdown",
   "id": "78dbc5b6",
   "metadata": {},
   "source": [
    "Yes, we need to create an object.Because the letter variable is a variable of object class, that is why we need to create an object in order to access the object variable."
   ]
  },
  {
   "cell_type": "markdown",
   "id": "b3e8a5c2",
   "metadata": {},
   "source": [
    "### 4. Create an Element class with the instance attributes name, symbol, and number. Create a class object with the values &#39;Hydrogen,&#39; &#39;H,&#39; and 1."
   ]
  },
  {
   "cell_type": "code",
   "execution_count": 8,
   "id": "3fde1aa4",
   "metadata": {},
   "outputs": [],
   "source": [
    "class Element:\n",
    "    def __init__(self,name, symbol, number):\n",
    "        self.name = name\n",
    "        self.symbol = symbol\n",
    "        self.number = number"
   ]
  },
  {
   "cell_type": "code",
   "execution_count": 9,
   "id": "49ba0d37",
   "metadata": {},
   "outputs": [],
   "source": [
    "obj_Element = Element('Hydrogen', 'H', 1)"
   ]
  },
  {
   "cell_type": "code",
   "execution_count": 10,
   "id": "4c03b8f0",
   "metadata": {},
   "outputs": [
    {
     "name": "stdout",
     "output_type": "stream",
     "text": [
      "Hydrogen\n",
      "H\n",
      "1\n"
     ]
    }
   ],
   "source": [
    "print(obj_Element.name)\n",
    "print(obj_Element.symbol)\n",
    "print(obj_Element.number)"
   ]
  },
  {
   "cell_type": "markdown",
   "id": "1c532870",
   "metadata": {},
   "source": [
    "### 5. Make a dictionary with these keys and values: &#39;name&#39;: &#39;Hydrogen&#39;, &#39;symbol&#39;: &#39;H&#39;, &#39;number&#39;: 1. Then, create an object called hydrogen from class Element using this dictionary."
   ]
  },
  {
   "cell_type": "code",
   "execution_count": 11,
   "id": "22cd8da1",
   "metadata": {},
   "outputs": [],
   "source": [
    "d = {'name': 'Hydrogen', 'symbol': 'H', 'number': 1}\n",
    "hydrogen = Element(**d)"
   ]
  },
  {
   "cell_type": "code",
   "execution_count": 12,
   "id": "304017e0",
   "metadata": {},
   "outputs": [
    {
     "name": "stdout",
     "output_type": "stream",
     "text": [
      "Hydrogen\n",
      "H\n",
      "1\n"
     ]
    }
   ],
   "source": [
    "print(hydrogen.name)\n",
    "print(hydrogen.symbol)\n",
    "print(hydrogen.number)"
   ]
  },
  {
   "cell_type": "markdown",
   "id": "1c7a8305",
   "metadata": {},
   "source": [
    "### 6. For the Element class, define a method called dump() that prints the values of the object’s attributes (name, symbol, and number). Create the hydrogen object from this new definition and use dump() to print its attributes."
   ]
  },
  {
   "cell_type": "code",
   "execution_count": 13,
   "id": "b7a1138f",
   "metadata": {},
   "outputs": [],
   "source": [
    "class Element:\n",
    "    def __init__(self,name, symbol, number):\n",
    "        self.name = name\n",
    "        self.symbol = symbol\n",
    "        self.number = number\n",
    "    def dump(self):\n",
    "        print(f\"Name of this element is : {self.name}\")\n",
    "        print(f\"Symbol of this element is : {self.symbol}\")\n",
    "        print(f\"Number of this element is : {self.number}\")"
   ]
  },
  {
   "cell_type": "code",
   "execution_count": 14,
   "id": "73847358",
   "metadata": {},
   "outputs": [
    {
     "name": "stdout",
     "output_type": "stream",
     "text": [
      "Name of this element is : Hydrogen\n",
      "Symbol of this element is : H\n",
      "Number of this element is : 1\n"
     ]
    }
   ],
   "source": [
    "hydrogen = Element('Hydrogen', 'H', 1)\n",
    "hydrogen.dump()"
   ]
  },
  {
   "cell_type": "markdown",
   "id": "f46a6d1a",
   "metadata": {},
   "source": [
    "### 7. Call print(hydrogen). In the definition of Element, change the name of method dump to __str__, create a new hydrogen object, and call print(hydrogen) again."
   ]
  },
  {
   "cell_type": "code",
   "execution_count": 15,
   "id": "fc0e612e",
   "metadata": {},
   "outputs": [
    {
     "name": "stdout",
     "output_type": "stream",
     "text": [
      "<__main__.Element object at 0x00000165AF385C90>\n"
     ]
    }
   ],
   "source": [
    "print(hydrogen)"
   ]
  },
  {
   "cell_type": "code",
   "execution_count": 16,
   "id": "664c9fb5",
   "metadata": {},
   "outputs": [],
   "source": [
    "class Element:\n",
    "    def __init__(self,name, symbol, number):\n",
    "        self.name = name\n",
    "        self.symbol = symbol\n",
    "        self.number = number\n",
    "    def __str__(self):\n",
    "        print(f\"Name of this element is : {self.name}\")\n",
    "        print(f\"Symbol of this element is : {self.symbol}\")\n",
    "        print(f\"Number of this element is : {self.number}\")\n",
    "        return \"\""
   ]
  },
  {
   "cell_type": "code",
   "execution_count": 17,
   "id": "c817708f",
   "metadata": {},
   "outputs": [],
   "source": [
    "hydrogen = Element('Hydrogen', 'H', 1)"
   ]
  },
  {
   "cell_type": "code",
   "execution_count": 18,
   "id": "f30b36bf",
   "metadata": {},
   "outputs": [
    {
     "name": "stdout",
     "output_type": "stream",
     "text": [
      "Name of this element is : Hydrogen\n",
      "Symbol of this element is : H\n",
      "Number of this element is : 1\n",
      "\n"
     ]
    }
   ],
   "source": [
    "print(hydrogen)"
   ]
  },
  {
   "cell_type": "markdown",
   "id": "c415dd7e",
   "metadata": {},
   "source": [
    "### 8. Modify Element to make the attributes name, symbol, and number private. Define a getter property for each to return its value."
   ]
  },
  {
   "cell_type": "code",
   "execution_count": 19,
   "id": "37fda999",
   "metadata": {},
   "outputs": [],
   "source": [
    "class Element:\n",
    "    def __init__(self,name, symbol, number):\n",
    "        self.__name = name\n",
    "        self.__symbol = symbol\n",
    "        self.__number = number\n",
    "    @property\n",
    "    def name(self):\n",
    "        return self.__name\n",
    "    @property\n",
    "    def symbol(self):\n",
    "        return self.__symbol\n",
    "    @property\n",
    "    def number(self):\n",
    "        return self.__number"
   ]
  },
  {
   "cell_type": "code",
   "execution_count": 20,
   "id": "1f49c4d5",
   "metadata": {},
   "outputs": [
    {
     "data": {
      "text/plain": [
       "'Hydrogen'"
      ]
     },
     "execution_count": 20,
     "metadata": {},
     "output_type": "execute_result"
    }
   ],
   "source": [
    "obj = Element('Hydrogen', 'H', 1)\n",
    "obj.name"
   ]
  },
  {
   "cell_type": "markdown",
   "id": "590ff3b0",
   "metadata": {},
   "source": [
    "### 9. Define three classes: Bear, Rabbit, and Octothorpe. For each, define only one method: eats(). This should return &#39;berries&#39; (Bear), &#39;clover&#39; (Rabbit), or &#39;campers&#39; (Octothorpe). Create one object from each and print what it eats."
   ]
  },
  {
   "cell_type": "code",
   "execution_count": 21,
   "id": "c13150f2",
   "metadata": {},
   "outputs": [],
   "source": [
    "class Bear:\n",
    "    def __init__(self):\n",
    "        pass\n",
    "    def eats(self):\n",
    "        return \"berries\"\n",
    "    \n",
    "    \n",
    "class Rabbit:\n",
    "    def __init__(self):\n",
    "        pass\n",
    "    def eats(self):\n",
    "        return \"clover\"\n",
    "    \n",
    "    \n",
    "class Octothrope:\n",
    "    def __init__(self):\n",
    "        pass\n",
    "    def eats(self):\n",
    "        return \"campers\""
   ]
  },
  {
   "cell_type": "code",
   "execution_count": 22,
   "id": "91c4fdca",
   "metadata": {},
   "outputs": [],
   "source": [
    "obj1 = Bear()\n",
    "obj2 = Rabbit()\n",
    "obj3 = Octothrope()"
   ]
  },
  {
   "cell_type": "code",
   "execution_count": 23,
   "id": "d984e363",
   "metadata": {},
   "outputs": [
    {
     "data": {
      "text/plain": [
       "'berries'"
      ]
     },
     "execution_count": 23,
     "metadata": {},
     "output_type": "execute_result"
    }
   ],
   "source": [
    "obj1.eats()"
   ]
  },
  {
   "cell_type": "code",
   "execution_count": 24,
   "id": "3da43e92",
   "metadata": {},
   "outputs": [
    {
     "data": {
      "text/plain": [
       "'clover'"
      ]
     },
     "execution_count": 24,
     "metadata": {},
     "output_type": "execute_result"
    }
   ],
   "source": [
    "obj2.eats()"
   ]
  },
  {
   "cell_type": "code",
   "execution_count": 25,
   "id": "d04274ff",
   "metadata": {},
   "outputs": [
    {
     "data": {
      "text/plain": [
       "'campers'"
      ]
     },
     "execution_count": 25,
     "metadata": {},
     "output_type": "execute_result"
    }
   ],
   "source": [
    "obj3.eats()"
   ]
  },
  {
   "cell_type": "markdown",
   "id": "48346ad1",
   "metadata": {},
   "source": [
    "### 10. Define these classes: Laser, Claw, and SmartPhone. Each has only one method: does(). This returns &#39;disintegrate&#39; (Laser), &#39;crush&#39; (Claw), or &#39;ring&#39; (SmartPhone). Then, define the class Robot that has one instance (object) of each of these. Define a does() method for the Robot that prints what its component objects do."
   ]
  },
  {
   "cell_type": "code",
   "execution_count": 26,
   "id": "c35c55f4",
   "metadata": {},
   "outputs": [],
   "source": [
    "class Leser:\n",
    "    def __init__(self):\n",
    "        pass\n",
    "    def does(self):\n",
    "        return 'disintegrate'\n",
    "    \n",
    "    \n",
    "class Claw:\n",
    "    def __init__(self):\n",
    "        pass\n",
    "    def does(self):\n",
    "        return 'crush'\n",
    "    \n",
    "    \n",
    "class SmartPhone:\n",
    "    def __init__(self):\n",
    "        pass\n",
    "    def does(self):\n",
    "        return 'ring'\n",
    "    \n",
    "class Robot(Leser, Claw, SmartPhone):\n",
    "    def does(self):\n",
    "        print(f\"Leser - {Leser.does(self)}s\")\n",
    "        print(f\"Claw - {Claw.does(self)}es\")\n",
    "        print(f\"SmartPhone - {SmartPhone.does(self)}s\")"
   ]
  },
  {
   "cell_type": "code",
   "execution_count": 27,
   "id": "9892e06a",
   "metadata": {},
   "outputs": [
    {
     "name": "stdout",
     "output_type": "stream",
     "text": [
      "Leser - disintegrates\n",
      "Claw - crushes\n",
      "SmartPhone - rings\n"
     ]
    }
   ],
   "source": [
    "rob = Robot()\n",
    "rob.does()"
   ]
  }
 ],
 "metadata": {
  "kernelspec": {
   "display_name": "Python 3 (ipykernel)",
   "language": "python",
   "name": "python3"
  },
  "language_info": {
   "codemirror_mode": {
    "name": "ipython",
    "version": 3
   },
   "file_extension": ".py",
   "mimetype": "text/x-python",
   "name": "python",
   "nbconvert_exporter": "python",
   "pygments_lexer": "ipython3",
   "version": "3.10.6"
  }
 },
 "nbformat": 4,
 "nbformat_minor": 5
}
