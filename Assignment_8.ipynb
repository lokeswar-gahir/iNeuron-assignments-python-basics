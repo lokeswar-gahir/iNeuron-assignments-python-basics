{
 "cells": [
  {
   "cell_type": "markdown",
   "id": "6f0bce7d",
   "metadata": {},
   "source": [
    "### 1. Is the Python Standard Library included with PyInputPlus?\n",
    "\n",
    "No, PyInputPlus is not included in Python Standard Library."
   ]
  },
  {
   "cell_type": "markdown",
   "id": "e5511aed",
   "metadata": {},
   "source": [
    "### 2. Why is PyInputPlus commonly imported with import pyinputplus as pypi?\n",
    "\n",
    "pypi is the alias for the full name PyInputPlus.<br>\n",
    "The alias is used instead of typing the full name of the library.<br>"
   ]
  },
  {
   "cell_type": "markdown",
   "id": "9976401e",
   "metadata": {},
   "source": [
    "### 3. How do you distinguish between inputInt() and inputFloat()?\n",
    "\n",
    "inputInt() : It is a function that is designed to take only integers and returns an integer.<br>\n",
    "inputFloat() : This is a function which takes only integer or float value and returns a float value."
   ]
  },
  {
   "cell_type": "markdown",
   "id": "e5ad8d40",
   "metadata": {},
   "source": [
    "### 4. Using PyInputPlus, how do you ensure that the user enters a whole number between 0 and 99?"
   ]
  },
  {
   "cell_type": "code",
   "execution_count": 4,
   "id": "85c01f5d",
   "metadata": {},
   "outputs": [
    {
     "name": "stdout",
     "output_type": "stream",
     "text": [
      "-2\n",
      "Number must be at minimum 0.\n",
      "100\n",
      "Number must be at maximum 99.\n",
      "23\n"
     ]
    },
    {
     "data": {
      "text/plain": [
       "23"
      ]
     },
     "execution_count": 4,
     "metadata": {},
     "output_type": "execute_result"
    }
   ],
   "source": [
    "import pyinputplus as pp\n",
    "pp.inputInt(min = 0, max = 99)"
   ]
  },
  {
   "cell_type": "markdown",
   "id": "706148e3",
   "metadata": {},
   "source": [
    "### 5. What is transferred to the keyword arguments allowRegexes and blockRegexes?\n",
    "\n",
    "Regex strings can be transfered to both of the arguments that either allows or blocks the input respectively."
   ]
  },
  {
   "cell_type": "markdown",
   "id": "c28125e1",
   "metadata": {},
   "source": [
    "### 6. If a blank input is entered three times, what does inputStr(limit=3) do?\n",
    "\n",
    "Doing this will throw an RetryLimitException."
   ]
  },
  {
   "cell_type": "markdown",
   "id": "4dd7faa1",
   "metadata": {},
   "source": [
    "### 7. If blank input is entered three times, what does inputStr(limit=3, default=&#39;hello&#39;) do?\n",
    "\n",
    "It will print the default value which is passes as a default argument.(Here it will print \"Hello\")"
   ]
  }
 ],
 "metadata": {
  "kernelspec": {
   "display_name": "Python 3 (ipykernel)",
   "language": "python",
   "name": "python3"
  },
  "language_info": {
   "codemirror_mode": {
    "name": "ipython",
    "version": 3
   },
   "file_extension": ".py",
   "mimetype": "text/x-python",
   "name": "python",
   "nbconvert_exporter": "python",
   "pygments_lexer": "ipython3",
   "version": "3.10.6"
  }
 },
 "nbformat": 4,
 "nbformat_minor": 5
}
