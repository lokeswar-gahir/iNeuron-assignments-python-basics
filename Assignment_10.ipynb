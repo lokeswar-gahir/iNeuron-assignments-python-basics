{
 "cells": [
  {
   "cell_type": "markdown",
   "id": "94132204",
   "metadata": {},
   "source": [
    "### 1. How do you distinguish between shutil.copy() and shutil.copytree()?\n",
    "\n",
    "shutil.copy() : copies a single file<br>\n",
    "shutil.copytree() : copies an entire tree(containing all the files and folders)"
   ]
  },
  {
   "cell_type": "markdown",
   "id": "d31fc51e",
   "metadata": {},
   "source": [
    "### 2. What function is used to rename files??\n",
    "\n",
    "os.rename() is used to rename the files."
   ]
  },
  {
   "cell_type": "markdown",
   "id": "85386c9e",
   "metadata": {},
   "source": [
    "### 3. What is the difference between the delete functions in the send2trash and shutil modules?\n",
    "\n",
    "__send2trash function__ will move a file or folder to the recycle bin<br>\n",
    "__shutil function__ will permanently delete files and folders."
   ]
  },
  {
   "cell_type": "markdown",
   "id": "ea3b3495",
   "metadata": {},
   "source": [
    "### 4.ZipFile objects have a close() method just like File objects’ close() method. What ZipFile method is equivalent to File objects’ open() method?\n",
    "\n",
    "zipfile.ZipFile() works exact same as open()."
   ]
  },
  {
   "cell_type": "markdown",
   "id": "6595cb36",
   "metadata": {},
   "source": [
    "### 5. Create a programme that searches a folder tree for files with a certain file extension (such as .pdf or .jpg). Copy these files from whatever location they are in to a new folder."
   ]
  },
  {
   "cell_type": "code",
   "execution_count": 1,
   "id": "5f64f39f",
   "metadata": {},
   "outputs": [],
   "source": [
    "import os, shutil as sh\n",
    "def auto_copy(given_ext, from_, to_):\n",
    "    for current_dir, folders, files  in os.walk(from_):\n",
    "        for file_name in files:\n",
    "            base_name, ext = os.path.splitext(file_name)\n",
    "            if ext in given_ext:\n",
    "                print(f\"copying {file_name}...\",end=\"\")\n",
    "                file_path = current_dir+os.path.sep+file_name\n",
    "                sh.copy(file_path, to_)\n",
    "                print(f\"done.\")\n",
    "    print(f\"\\nSuccessfully copied to : '{to_}'.\")"
   ]
  },
  {
   "cell_type": "code",
   "execution_count": 2,
   "id": "53c6e3d2",
   "metadata": {},
   "outputs": [
    {
     "name": "stdout",
     "output_type": "stream",
     "text": [
      "copying test(pdf).pdf...done.\n",
      "copying test1(text).txt...done.\n",
      "copying test2(text).txt...done.\n",
      "copying test4(text).txt...done.\n",
      "copying text3(text).txt...done.\n",
      "copying test1(pdf).pdf...done.\n",
      "copying test2(pdf).pdf...done.\n",
      "copying test3(pdf).pdf...done.\n",
      "copying test4(pdf).pdf...done.\n",
      "copying test5(pdf).pdf...done.\n",
      "copying test6(pdf).pdf...done.\n",
      "copying test7(pdf).pdf...done.\n",
      "copying test8(pdf).pdf...done.\n",
      "\n",
      "Successfully copied to : 'C:\\Users\\lokes\\Desktop\\destination'.\n"
     ]
    }
   ],
   "source": [
    "from_ = \"C:\\\\Users\\\\lokes\\\\Desktop\\\\test\"\n",
    "to_ = \"C:\\\\Users\\\\lokes\\\\Desktop\\\\destination\"\n",
    "given_ext = [\".txt\",\".pdf\"]\n",
    "\n",
    "auto_copy(given_ext, from_, to_)"
   ]
  }
 ],
 "metadata": {
  "kernelspec": {
   "display_name": "Python 3 (ipykernel)",
   "language": "python",
   "name": "python3"
  },
  "language_info": {
   "codemirror_mode": {
    "name": "ipython",
    "version": 3
   },
   "file_extension": ".py",
   "mimetype": "text/x-python",
   "name": "python",
   "nbconvert_exporter": "python",
   "pygments_lexer": "ipython3",
   "version": "3.10.6"
  }
 },
 "nbformat": 4,
 "nbformat_minor": 5
}
