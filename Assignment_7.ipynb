{
 "cells": [
  {
   "cell_type": "markdown",
   "id": "0ef9b1cc",
   "metadata": {},
   "source": [
    "### 1. What is the name of the feature responsible for generating Regex objects?\n",
    "\n",
    "re.compile() function returns a Regex object."
   ]
  },
  {
   "cell_type": "markdown",
   "id": "3e7e9bf1",
   "metadata": {},
   "source": [
    "### 2. Why do raw strings often appear in Regex objects?\n",
    "\n",
    "The reason raw strings are used in Regex object is that backslashes do not have to be escaped."
   ]
  },
  {
   "cell_type": "markdown",
   "id": "fbc30c1c",
   "metadata": {},
   "source": [
    "### 3. What is the return value of the search() method?\n",
    "\n",
    "The search() method returns a re.match object."
   ]
  },
  {
   "cell_type": "markdown",
   "id": "3a9b75c9",
   "metadata": {},
   "source": [
    "### 4. From a Match item, how do you get the actual strings that match the pattern?\n",
    "\n",
    "Using matchObject.group() we are able to get the actual string."
   ]
  },
  {
   "cell_type": "markdown",
   "id": "5c08adf7",
   "metadata": {},
   "source": [
    "### 5. In the regex which created from the r&#39;(\\d\\d\\d)-(\\d\\d\\d-\\d\\d\\d\\d)&#39;, what does group zero cover? Group 2? Group 1?\n",
    "\n",
    "group(0) : This method covers entire match '(\\d\\d\\d)-(\\d\\d\\d-\\d\\d\\d\\d)'<br>\n",
    "group(1) : This method covers first group of total matches '(\\d\\d\\d)'<br>\n",
    "group(2) : This method covers second group of total matches '(\\d\\d\\d-\\d\\d\\d\\d)'<br>"
   ]
  },
  {
   "cell_type": "markdown",
   "id": "76b2dd0b",
   "metadata": {},
   "source": [
    "### 6. In standard expression syntax, parentheses and intervals have distinct meanings. How can you tell a regex that you want it to fit real parentheses and periods?\n",
    "\n",
    "Periods and parentheses can be escaped with a backslash like: \\., \\(, and \\)."
   ]
  },
  {
   "cell_type": "markdown",
   "id": "1a92c8ea",
   "metadata": {},
   "source": [
    "### 7. The findall() method returns a string list or a list of string tuples. What causes it to return one of the two options?\n",
    "\n",
    "If there is no group then it will returns a list of string, and if there are groups then it will return a list of tuples."
   ]
  },
  {
   "cell_type": "markdown",
   "id": "b2f36225",
   "metadata": {},
   "source": [
    "### 8. In standard expressions, what does the | character mean?\n",
    "\n",
    "In regular expression '|' character plays the role of 'or' logical operater."
   ]
  },
  {
   "cell_type": "code",
   "execution_count": 1,
   "id": "0be57f87",
   "metadata": {},
   "outputs": [
    {
     "data": {
      "text/plain": [
       "['fish', 'water']"
      ]
     },
     "execution_count": 1,
     "metadata": {},
     "output_type": "execute_result"
    }
   ],
   "source": [
    "import re\n",
    "st1 = 'fish lives in the water'\n",
    "pat1 = 'fish|water'\n",
    "re.findall(pat1,st1)"
   ]
  },
  {
   "cell_type": "markdown",
   "id": "9e457de1",
   "metadata": {},
   "source": [
    "### 9. In regular expressions, what does the character stand for?\n",
    "\n",
    "The '?' character represents zero or one match of the preceding group, in other words this character can be used for selecting optional groups."
   ]
  },
  {
   "cell_type": "markdown",
   "id": "c7e29687",
   "metadata": {},
   "source": [
    "### 10.In regular expressions, what is the difference between the + and * characters?\n",
    "\n",
    "'+' character is used for matching one or more character, where as '*' character is used for matching zero or more character."
   ]
  },
  {
   "cell_type": "markdown",
   "id": "c291d2a4",
   "metadata": {},
   "source": [
    "### 11. What is the difference between {4} and {4,5} in regular expression?\n",
    "\n",
    "{4} : for matching exactly 4 characters<br>\n",
    "{4,5} : for matching characters between 4 and 5"
   ]
  },
  {
   "cell_type": "markdown",
   "id": "210081cf",
   "metadata": {},
   "source": [
    "### 12. What do you mean by the \\d, \\w, and \\s shorthand character classes signify in regular expressions?\n",
    "\n",
    "\\d : This is used to match numeric characters (0-9)<br>\n",
    "\\w : This is used to match uppercase alphabets(A-Z), lowercase alphabet(a-z), digits(0-9) and underscore(_)<br>\n",
    "\\s : This is used to match one or more space characters, new line character<br>"
   ]
  },
  {
   "cell_type": "markdown",
   "id": "96c87850",
   "metadata": {},
   "source": [
    "### 13. What do means by \\D, \\W, and \\S shorthand character classes signify in regular expressions?\n",
    "\n",
    "\\D : This character matches everything except digits(0-9)<br>\n",
    "\\W : This character matches everything except uppercase alphabets(A-Z), lowercase alphabet(a-z), digits(0-9) and underscore(_)<br>\n",
    "\\S : This character matches everything except one or more space characters and new line character<br>"
   ]
  },
  {
   "cell_type": "markdown",
   "id": "9a777321",
   "metadata": {},
   "source": [
    "### 14. What is the difference between .*? and .*?\n",
    "\n",
    "The '.' character performs a greedy match, and '.?' character performs a nongreedy match."
   ]
  },
  {
   "cell_type": "markdown",
   "id": "35fef2e5",
   "metadata": {},
   "source": [
    "### 15. What is the syntax for matching both numbers and lowercase letters with a character class?\n",
    "\n",
    "Using '[0-9a-z]' pattern both numbers and lowercase letters can be fetched."
   ]
  },
  {
   "cell_type": "markdown",
   "id": "f9cd078d",
   "metadata": {},
   "source": [
    "### 16. What is the procedure for making a normal expression in regax case insensitive?\n",
    "\n",
    "The argument for flags parameter can be set to 're.IGNORECASE' to achieve the solution."
   ]
  },
  {
   "cell_type": "code",
   "execution_count": 2,
   "id": "019ecb40",
   "metadata": {},
   "outputs": [
    {
     "data": {
      "text/plain": [
       "['Hello', 'There']"
      ]
     },
     "execution_count": 2,
     "metadata": {},
     "output_type": "execute_result"
    }
   ],
   "source": [
    "st2 = 'Hello There!'\n",
    "pat2 = '[a-z]+'\n",
    "re.findall(pat2, st2, flags = re.IGNORECASE)"
   ]
  },
  {
   "cell_type": "markdown",
   "id": "e66b9049",
   "metadata": {},
   "source": [
    "### 17. What does the . character normally match? What does it match if re.DOTALL is passed as 2nd argument in re.compile()?\n",
    "\n",
    "Normally dot character matches every character except new line character.<br>\n",
    "But if re.DOTALL is passed as 2nd argument in re.compile() it also matches new line character."
   ]
  },
  {
   "cell_type": "markdown",
   "id": "4f2dee17",
   "metadata": {},
   "source": [
    "### 18. If numReg = re.compile(r&#39;\\d+&#39;), what will numRegex.sub(&#39;X&#39;, &#39;11 drummers, 10 pipers, five rings, 4 hen&#39;) return?\n",
    "\n",
    "This will return a string like : X drummers, X pipers, five rings, X hen"
   ]
  },
  {
   "cell_type": "markdown",
   "id": "ac345471",
   "metadata": {},
   "source": [
    "### 19. What does passing re.VERBOSE as the 2nd argument to re.compile() allow to do?\n",
    "\n",
    "The re.VERBOSE flag allows to add spaces and comments to the regular expression."
   ]
  },
  {
   "cell_type": "markdown",
   "id": "ed2590b1",
   "metadata": {},
   "source": [
    "### 20. How would you write a regex that match a number with comma for every three digits? It must match the given following:\n",
    "__&#39;42&#39;<br>\n",
    "&#39;1,234&#39;<br>\n",
    "&#39;6,368,745&#39;<br>\n",
    "but not the following:<br>\n",
    "'12,34,567' (which has only two digits between the commas)<br>\n",
    "'1234' (which lacks commas)<br>__\n",
    "\n",
    "The answer will be : re.compile(r'^\\d{1,3}(,\\d{3})*$')"
   ]
  },
  {
   "cell_type": "markdown",
   "id": "aa0b3556",
   "metadata": {},
   "source": [
    "### 21. How would you write a regex that matches the full name of someone whose last name is Watanabe? You can assume that the first name that comes before it will always be one word that begins with a capital letter. The regex must match the following:\n",
    "\n",
    "\n",
    "&#39;Haruto Watanabe&#39;<br>\n",
    "&#39;Alice Watanabe&#39;<br>\n",
    "&#39;RoboCop Watanabe&#39;<br><br>\n",
    "__but not the following:__<br>\n",
    "&#39;haruto Watanabe&#39; (where the first name is not capitalized)<br>\n",
    "&#39;Mr. Watanabe&#39; (where the preceding word has a nonletter character)<br>\n",
    "&#39;Watanabe&#39; (which has no first name)<br>\n",
    "&#39;Haruto watanabe&#39; (where Watanabe is not capitalized)"
   ]
  },
  {
   "cell_type": "code",
   "execution_count": 3,
   "id": "c78c8d69",
   "metadata": {},
   "outputs": [
    {
     "data": {
      "text/plain": [
       "['Haruto Watanabe', 'Alice Watanabe', 'RoboCop Watanabe']"
      ]
     },
     "execution_count": 3,
     "metadata": {},
     "output_type": "execute_result"
    }
   ],
   "source": [
    "correct = \"Haruto Watanabe   Alice Watanabe   RoboCop Watanabe\"\n",
    "incorrect = \"   haruto Watanabe   Mr. Watanabe   Watanabe   Haruto watanabe\"\n",
    "st = correct + incorrect\n",
    "pat = '[A-Z][A-Za-z]+ Watanabe'\n",
    "re.findall(pat,st)"
   ]
  },
  {
   "cell_type": "markdown",
   "id": "e9108b37",
   "metadata": {},
   "source": [
    "### 22. How would you write a regex that matches a sentence where the first word is either Alice, Bob, or Carol; the second word is either eats, pets, or throws; the third word is apples, cats, or baseballs; and the sentence ends with a period? This regex should be case-insensitive. It must match the following:\n",
    "&#39;Alice eats apples.&#39;<br>\n",
    "&#39;Bob pets cats.&#39;<br>\n",
    "&#39;Carol throws baseballs.&#39;<br>\n",
    "&#39;Alice throws Apples.&#39;<br>\n",
    "&#39;BOB EATS CATS.&#39;<br><br>\n",
    "__but not the following:__<br>\n",
    "&#39;RoboCop eats apples.&#39;<br>\n",
    "&#39;ALICE THROWS FOOTBALLS.&#39;<br>\n",
    "&#39;Carol eats 7 cats.&#39;<br>"
   ]
  },
  {
   "cell_type": "code",
   "execution_count": 4,
   "id": "78ee5331",
   "metadata": {},
   "outputs": [
    {
     "data": {
      "text/plain": [
       "['Alice eats apples.',\n",
       " 'Bob pets cats.',\n",
       " 'Carol throws baseballs.',\n",
       " 'Alice throws Apples.',\n",
       " 'BOB EATS CATS.']"
      ]
     },
     "execution_count": 4,
     "metadata": {},
     "output_type": "execute_result"
    }
   ],
   "source": [
    "cor = 'Alice eats apples.   Bob pets cats.   Carol throws baseballs.   Alice throws Apples.   BOB EATS CATS.'\n",
    "inc = 'RoboCop eats apples.   ALICE THROWS FOOTBALLS.   Carol eats 7 cats.'\n",
    "st = inc + cor\n",
    "pat = '[Alice|Bob|Carol]+ [eats|pets|throws]+ [apples|cats|baseballs]+.'\n",
    "re.findall(pat,st,re.I)"
   ]
  }
 ],
 "metadata": {
  "kernelspec": {
   "display_name": "Python 3 (ipykernel)",
   "language": "python",
   "name": "python3"
  },
  "language_info": {
   "codemirror_mode": {
    "name": "ipython",
    "version": 3
   },
   "file_extension": ".py",
   "mimetype": "text/x-python",
   "name": "python",
   "nbconvert_exporter": "python",
   "pygments_lexer": "ipython3",
   "version": "3.10.6"
  }
 },
 "nbformat": 4,
 "nbformat_minor": 5
}
