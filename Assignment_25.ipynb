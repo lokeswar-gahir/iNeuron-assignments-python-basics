{
 "cells": [
  {
   "cell_type": "markdown",
   "id": "47f86ade",
   "metadata": {},
   "source": [
    "1. What is the difference between enclosing a list comprehension in square brackets and parentheses?\n",
    "2. What is the relationship between generators and iterators?\n",
    "3. What are the signs that a function is a generator function?\n",
    "4. What is the purpose of a yield statement?\n",
    "5. What is the relationship between map calls and list comprehensions? Make a comparison and contrast between the two."
   ]
  },
  {
   "cell_type": "markdown",
   "id": "29a33766",
   "metadata": {},
   "source": [
    "### 1. What is the difference between enclosing a list comprehension in square brackets and parentheses?"
   ]
  },
  {
   "cell_type": "code",
   "execution_count": 1,
   "id": "87872f6d",
   "metadata": {},
   "outputs": [
    {
     "data": {
      "text/plain": [
       "[0, 1, 2, 3, 4, 5, 6, 7, 8, 9, 10, 11, 12, 13, 14, 15, 16, 17, 18, 19]"
      ]
     },
     "execution_count": 1,
     "metadata": {},
     "output_type": "execute_result"
    }
   ],
   "source": [
    "[i for i in range(20)]"
   ]
  },
  {
   "cell_type": "code",
   "execution_count": 2,
   "id": "9075f4e5",
   "metadata": {},
   "outputs": [
    {
     "data": {
      "text/plain": [
       "<generator object <genexpr> at 0x000001D75D5BA960>"
      ]
     },
     "execution_count": 2,
     "metadata": {},
     "output_type": "execute_result"
    }
   ],
   "source": [
    "(i for i in range(20))"
   ]
  },
  {
   "cell_type": "markdown",
   "id": "7b1e2371",
   "metadata": {},
   "source": [
    "- When we enclose a list comprehension in the square bracket it returns a list object.\n",
    "- When we enclose a list comprehension inside parenthesis it returns a generator object."
   ]
  },
  {
   "cell_type": "markdown",
   "id": "434e793c",
   "metadata": {},
   "source": [
    "### 2. What is the relationship between generators and iterators?"
   ]
  },
  {
   "cell_type": "markdown",
   "id": "45ae5d3e",
   "metadata": {},
   "source": [
    "__Iterator__:\n",
    "- An iterator is an object which contains a countable number of values and it is used to iterate over iterable objects like list, tuples etc\n",
    "- Using an iterator-\n",
    " - iter() keyword is used to create an iterator containing an iterable object.\n",
    " - next() keyword is used to call the next element in the iterable object.\n",
    "\n",
    "__Generator__:\n",
    "- It is another way of creating iterators in a simple way where it uses the keyword “yield” instead of returning it in a defined function\n",
    "- Generators are implemented using a function\n",
    "- Here, the yield function returns the data without affecting or exiting the function. \n",
    "- It will return a sequence of data in an iterable format where we need to iterate over the sequence to use the data as they won’t store the entire sequence in the memory\n",
    "- By using next() function we can iterate the output of generator function"
   ]
  },
  {
   "cell_type": "markdown",
   "id": "1fec3107",
   "metadata": {},
   "source": [
    "### 3. What are the signs that a function is a generator function?"
   ]
  },
  {
   "cell_type": "markdown",
   "id": "5039fd8c",
   "metadata": {},
   "source": [
    "- There should be atleast one yield keyword.<br>\n",
    "- The yield keyword converts a fun to generator."
   ]
  },
  {
   "cell_type": "markdown",
   "id": "22fc9295",
   "metadata": {},
   "source": [
    "### 4. What is the purpose of a yield statement?"
   ]
  },
  {
   "cell_type": "markdown",
   "id": "f62ee7b0",
   "metadata": {},
   "source": [
    "- yield convertes a function to the generator and pauses execution of the generator.<br>\n",
    "- It yields each value after passing the generator object in the next(). "
   ]
  },
  {
   "cell_type": "markdown",
   "id": "26e63f33",
   "metadata": {},
   "source": [
    "### 5. What is the relationship between map calls and list comprehensions? Make a comparison and contrast between the two."
   ]
  },
  {
   "cell_type": "markdown",
   "id": "1e6841dc",
   "metadata": {},
   "source": [
    "__map()__ : This function applies a specific function to each of the element inside a list.<br>\n",
    "__list comprehension__: This is used to make a list using for loop."
   ]
  },
  {
   "cell_type": "markdown",
   "id": "c594682c",
   "metadata": {},
   "source": [
    "__Comparision :__\n",
    "1. List comprehension is more concise and easier to read as compared to map.\n",
    "2. List comprehension allows filtering. In map, we have no such facility<br>\n",
    "For example, to print all even numbers in range of 100, we can write [n for n in range(100) if n%2 == 0]. There is  no alternate for it in map\n",
    "3. List comprehension are used when a list of results is required, where as map only returns a map object and does  not return any list.\n",
    "4. List comprehension is faster than map when we need to evaluate expressions that are too long or complicated  to express\n",
    "5. Map is faster in case of calling an already defined function."
   ]
  },
  {
   "cell_type": "markdown",
   "id": "86fb4200",
   "metadata": {},
   "source": [
    "__Here is the implementation of map() :__"
   ]
  },
  {
   "cell_type": "code",
   "execution_count": 3,
   "id": "de21dfed",
   "metadata": {},
   "outputs": [
    {
     "data": {
      "text/plain": [
       "[16, 49, 9, 64, 36]"
      ]
     },
     "execution_count": 3,
     "metadata": {},
     "output_type": "execute_result"
    }
   ],
   "source": [
    "l1 = [4,7,3,8,6]\n",
    "list(map(lambda a: a**2, l1))"
   ]
  },
  {
   "cell_type": "markdown",
   "id": "4eee6e03",
   "metadata": {},
   "source": [
    "__Here is the implementation list comprehension :__"
   ]
  },
  {
   "cell_type": "code",
   "execution_count": 4,
   "id": "67197161",
   "metadata": {},
   "outputs": [
    {
     "data": {
      "text/plain": [
       "[0, 3, 6, 9, 12, 15, 18]"
      ]
     },
     "execution_count": 4,
     "metadata": {},
     "output_type": "execute_result"
    }
   ],
   "source": [
    "[a for a in range(20) if a%3==0]"
   ]
  }
 ],
 "metadata": {
  "kernelspec": {
   "display_name": "Python 3 (ipykernel)",
   "language": "python",
   "name": "python3"
  },
  "language_info": {
   "codemirror_mode": {
    "name": "ipython",
    "version": 3
   },
   "file_extension": ".py",
   "mimetype": "text/x-python",
   "name": "python",
   "nbconvert_exporter": "python",
   "pygments_lexer": "ipython3",
   "version": "3.10.6"
  }
 },
 "nbformat": 4,
 "nbformat_minor": 5
}
