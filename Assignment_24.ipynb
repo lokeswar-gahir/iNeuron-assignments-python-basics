{
 "cells": [
  {
   "cell_type": "markdown",
   "id": "e3f8645a",
   "metadata": {},
   "source": [
    "### 1. What is the relationship between def statements and lambda expressions ?"
   ]
  },
  {
   "cell_type": "markdown",
   "id": "cd53f04c",
   "metadata": {},
   "source": [
    "- Practically both does the same thing, where def functions contains a name lambda is a anonymous function.\n",
    "- def function can have any number of expression, lambda can have only one expression.\n",
    "- def is used to perform some complex task, lambda can only does simple tasks."
   ]
  },
  {
   "cell_type": "markdown",
   "id": "b6bccaa6",
   "metadata": {},
   "source": [
    "### 2. What is the benefit of lambda?"
   ]
  },
  {
   "cell_type": "markdown",
   "id": "0fff7241",
   "metadata": {},
   "source": [
    "lambda can be used : \n",
    " - to perform simple tasks\n",
    " - to make a one liner function\n",
    " - if you do not want to specify a name for one liner simple function"
   ]
  },
  {
   "cell_type": "markdown",
   "id": "42795057",
   "metadata": {},
   "source": [
    "### 3. Compare and contrast map, filter, and reduce."
   ]
  },
  {
   "cell_type": "markdown",
   "id": "2a697f69",
   "metadata": {},
   "source": [
    "__map()__ is used to perform a function on each element of a list."
   ]
  },
  {
   "cell_type": "code",
   "execution_count": 1,
   "id": "2fc63f78",
   "metadata": {},
   "outputs": [
    {
     "data": {
      "text/plain": [
       "[4, 7, 5, 9, 10, 3]"
      ]
     },
     "execution_count": 1,
     "metadata": {},
     "output_type": "execute_result"
    }
   ],
   "source": [
    "l1 = [3,6,4,8,9,2]\n",
    "list(map(lambda x : x+1, l1))"
   ]
  },
  {
   "cell_type": "markdown",
   "id": "d143c593",
   "metadata": {},
   "source": [
    "__filter()__ is used to filter out elements of a list on a condition."
   ]
  },
  {
   "cell_type": "code",
   "execution_count": 2,
   "id": "ae1ddd95",
   "metadata": {},
   "outputs": [
    {
     "data": {
      "text/plain": [
       "[6, 4, 8, 2]"
      ]
     },
     "execution_count": 2,
     "metadata": {},
     "output_type": "execute_result"
    }
   ],
   "source": [
    "l1 = [3,6,4,8,9,2]\n",
    "list(filter(lambda x : True if x%2==0 else False, l1))"
   ]
  },
  {
   "cell_type": "markdown",
   "id": "9ec08f3d",
   "metadata": {},
   "source": [
    "__reduce()__ is used to transform a list to a numeric value. "
   ]
  },
  {
   "cell_type": "code",
   "execution_count": 3,
   "id": "589df739",
   "metadata": {},
   "outputs": [
    {
     "data": {
      "text/plain": [
       "32"
      ]
     },
     "execution_count": 3,
     "metadata": {},
     "output_type": "execute_result"
    }
   ],
   "source": [
    "from functools import reduce\n",
    "l1 = [3,6,4,8,9,2]\n",
    "reduce(lambda a, b : a+b, l1)"
   ]
  },
  {
   "cell_type": "markdown",
   "id": "7fef86b6",
   "metadata": {},
   "source": [
    "### 4. What are function annotations, and how are they used?"
   ]
  },
  {
   "cell_type": "markdown",
   "id": "ea7eaf68",
   "metadata": {},
   "source": [
    "- Function annotations are the standard way to display the datatype of parameters and return values in a function.<br>\n",
    "- It is used to provide the information about function parameters and return value, it does not create any problem in the runtime. "
   ]
  },
  {
   "cell_type": "markdown",
   "id": "419fb136",
   "metadata": {},
   "source": [
    "Here is the example: "
   ]
  },
  {
   "cell_type": "code",
   "execution_count": 4,
   "id": "6fec9487",
   "metadata": {},
   "outputs": [],
   "source": [
    "def add(a: int, b: int) -> int:\n",
    "    return a+b"
   ]
  },
  {
   "cell_type": "code",
   "execution_count": 5,
   "id": "d57c8562",
   "metadata": {},
   "outputs": [
    {
     "data": {
      "text/plain": [
       "9"
      ]
     },
     "execution_count": 5,
     "metadata": {},
     "output_type": "execute_result"
    }
   ],
   "source": [
    "add(4,5)"
   ]
  },
  {
   "cell_type": "markdown",
   "id": "a51d6545",
   "metadata": {},
   "source": [
    "We can also use float, to show that intrger value is not mandatory."
   ]
  },
  {
   "cell_type": "code",
   "execution_count": 6,
   "id": "e7e5bc3e",
   "metadata": {},
   "outputs": [
    {
     "data": {
      "text/plain": [
       "23.5"
      ]
     },
     "execution_count": 6,
     "metadata": {},
     "output_type": "execute_result"
    }
   ],
   "source": [
    "add(20.3,3.2)"
   ]
  },
  {
   "cell_type": "code",
   "execution_count": 7,
   "id": "50d1167d",
   "metadata": {},
   "outputs": [
    {
     "data": {
      "text/plain": [
       "{'a': int, 'b': int, 'return': int}"
      ]
     },
     "execution_count": 7,
     "metadata": {},
     "output_type": "execute_result"
    }
   ],
   "source": [
    "add.__annotations__"
   ]
  },
  {
   "cell_type": "markdown",
   "id": "b7267b0a",
   "metadata": {},
   "source": [
    "### 5. What are recursive functions, and how are they used?"
   ]
  },
  {
   "cell_type": "markdown",
   "id": "b6597070",
   "metadata": {},
   "source": [
    "Recursive functions are the functions which call itself while executing untill a specified condition is satisfied.<br>\n",
    "This is used where we encounter a problem is repeating itself."
   ]
  },
  {
   "cell_type": "code",
   "execution_count": 8,
   "id": "51c1331c",
   "metadata": {},
   "outputs": [],
   "source": [
    "def fact(n):\n",
    "    if n==1:\n",
    "        return 1\n",
    "    else:\n",
    "        return n*fact(n-1)"
   ]
  },
  {
   "cell_type": "code",
   "execution_count": 9,
   "id": "5c2478e9",
   "metadata": {},
   "outputs": [
    {
     "data": {
      "text/plain": [
       "120"
      ]
     },
     "execution_count": 9,
     "metadata": {},
     "output_type": "execute_result"
    }
   ],
   "source": [
    "fact(5)"
   ]
  },
  {
   "cell_type": "markdown",
   "id": "751c5a7d",
   "metadata": {},
   "source": [
    "### 6. What are some general design guidelines for coding functions?"
   ]
  },
  {
   "cell_type": "markdown",
   "id": "0d0efdb2",
   "metadata": {},
   "source": [
    "1. Use 4-space indentation and no tabs.\n",
    "2. Use docstrings\n",
    "3. Wrap linethat they don’t exceed 79 characters\n",
    "4. Use of regular and updated comments are valuable to both the coders and users\n",
    "5. Use of trailing commas : in case of tuple -> ('good',)\n",
    "6. Use Python’s default UTF-8 or ASCII encodings and not any fancy encodings\n",
    "7. Naming Conventions\n",
    "8. Characters that should not be used for identifiers :<br>\n",
    "    ‘l’ (lowercase letter el),<br> \n",
    "    ‘O’ (uppercase letter oh),<br> \n",
    "    ‘I’ (uppercase letter eye) as single character variable names as these are similar to the numerals one and zero.\n",
    "9. Don’t use non-ASCII characters in identifiers\n",
    "10. Name your classes and functions consistently\n",
    "11. While naming of function of methods always use self for the first argument"
   ]
  },
  {
   "cell_type": "markdown",
   "id": "f4a5a1c3",
   "metadata": {},
   "source": [
    "### 7. Name three or more ways that functions can communicate results to a caller."
   ]
  },
  {
   "cell_type": "markdown",
   "id": "5d6a3d3e",
   "metadata": {},
   "source": [
    "1. Function can return single value\n",
    "2. Can return multiple values, tuple\n",
    "3. can return list,dictionary\n",
    "4. can return function object\n",
    "5. can return class object"
   ]
  }
 ],
 "metadata": {
  "kernelspec": {
   "display_name": "Python 3 (ipykernel)",
   "language": "python",
   "name": "python3"
  },
  "language_info": {
   "codemirror_mode": {
    "name": "ipython",
    "version": 3
   },
   "file_extension": ".py",
   "mimetype": "text/x-python",
   "name": "python",
   "nbconvert_exporter": "python",
   "pygments_lexer": "ipython3",
   "version": "3.10.6"
  }
 },
 "nbformat": 4,
 "nbformat_minor": 5
}
