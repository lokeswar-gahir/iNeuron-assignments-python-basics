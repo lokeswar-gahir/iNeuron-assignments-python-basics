{
 "cells": [
  {
   "cell_type": "markdown",
   "id": "95bb9183",
   "metadata": {},
   "source": [
    "### 1. What advantages do Excel spreadsheets have over CSV spreadsheets?\n",
    "In Excel : \n",
    "- spreadsheets can have values of data types other than strings\n",
    "- cells can have different fonts, sizes, or color settings\n",
    "- cells can have varying widths and heights\n",
    "- adjacent cells can be merged and we can embed images and charts"
   ]
  },
  {
   "cell_type": "markdown",
   "id": "fd28a8a8",
   "metadata": {},
   "source": [
    "### 2.What do you pass to csv.reader() and csv.writer() to create reader and writer objects?\n",
    "To create reader and writer objects we pass a file object inside csv.reader() and csv.writer(), which we can get from open() function."
   ]
  },
  {
   "cell_type": "markdown",
   "id": "00b0d23c",
   "metadata": {},
   "source": [
    "### 3. What modes do File objects for reader and writer objects need to be opened in?\n",
    "For reader object the file shouls be open in read(r) mode and for writer object file should be open in write(w) mode."
   ]
  },
  {
   "cell_type": "markdown",
   "id": "13b7b4af",
   "metadata": {},
   "source": [
    "### 4. What method takes a list argument and writes it to a CSV file?\n",
    "csvWriterObject.writerow() method does the work."
   ]
  },
  {
   "cell_type": "markdown",
   "id": "9bcbedab",
   "metadata": {},
   "source": [
    "### 5. What do the keyword arguments delimiter and line terminator do?\n",
    "line delimiter : this character breaks the whole csv file into different rows<br>\n",
    "delimiter : this character breakes the rows into readable values"
   ]
  },
  {
   "cell_type": "markdown",
   "id": "9733fa66",
   "metadata": {},
   "source": [
    "### 6. What function takes a string of JSON data and returns a Python data structure?\n",
    "json.loads() function takes the json data and returns python dictionary."
   ]
  },
  {
   "cell_type": "markdown",
   "id": "5f054194",
   "metadata": {},
   "source": [
    "### 7. What function takes a Python data structure and returns a string of JSON data?\n",
    "json.dumps() takes a Python data structure and returns a string of JSON data."
   ]
  }
 ],
 "metadata": {
  "kernelspec": {
   "display_name": "Python 3 (ipykernel)",
   "language": "python",
   "name": "python3"
  },
  "language_info": {
   "codemirror_mode": {
    "name": "ipython",
    "version": 3
   },
   "file_extension": ".py",
   "mimetype": "text/x-python",
   "name": "python",
   "nbconvert_exporter": "python",
   "pygments_lexer": "ipython3",
   "version": "3.10.6"
  }
 },
 "nbformat": 4,
 "nbformat_minor": 5
}
