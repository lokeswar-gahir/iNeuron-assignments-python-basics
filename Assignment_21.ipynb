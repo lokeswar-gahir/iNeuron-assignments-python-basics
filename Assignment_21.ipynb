{
 "cells": [
  {
   "cell_type": "markdown",
   "id": "70db12cf",
   "metadata": {},
   "source": [
    "### 1. Add the current date to the text file today.txt as a string."
   ]
  },
  {
   "cell_type": "code",
   "execution_count": 1,
   "id": "443aff56",
   "metadata": {},
   "outputs": [],
   "source": [
    "import datetime\n",
    "d = datetime.date.today()\n",
    "\n",
    "with open(\"today.txt\", \"w\") as f:\n",
    "    f.write(str(d))"
   ]
  },
  {
   "cell_type": "markdown",
   "id": "509d52ec",
   "metadata": {},
   "source": [
    "### 2. Read the text file today.txt into the string today_string"
   ]
  },
  {
   "cell_type": "code",
   "execution_count": 2,
   "id": "0bc4e05e",
   "metadata": {},
   "outputs": [
    {
     "name": "stdout",
     "output_type": "stream",
     "text": [
      "2022-09-29\n"
     ]
    }
   ],
   "source": [
    "with open(\"today.txt\") as f:\n",
    "    today_string = f.read()\n",
    "print(today_string)"
   ]
  },
  {
   "cell_type": "markdown",
   "id": "3cd1866c",
   "metadata": {},
   "source": [
    "### 3. Parse the date from today_string."
   ]
  },
  {
   "cell_type": "code",
   "execution_count": 3,
   "id": "2b897e46",
   "metadata": {},
   "outputs": [
    {
     "data": {
      "text/plain": [
       "datetime.datetime(2022, 9, 29, 0, 0)"
      ]
     },
     "execution_count": 3,
     "metadata": {},
     "output_type": "execute_result"
    }
   ],
   "source": [
    "datetime.datetime.strptime(today_string,\"%Y-%m-%d\")"
   ]
  },
  {
   "cell_type": "markdown",
   "id": "ce863eda",
   "metadata": {},
   "source": [
    "### 4. List the files in your current directory"
   ]
  },
  {
   "cell_type": "code",
   "execution_count": 4,
   "id": "b3cd20e2",
   "metadata": {},
   "outputs": [
    {
     "data": {
      "text/plain": [
       "['Assignment_1.ipynb',\n",
       " 'Assignment_10.ipynb',\n",
       " 'Assignment_11.ipynb',\n",
       " 'Assignment_12.ipynb',\n",
       " 'Assignment_13.ipynb',\n",
       " 'Assignment_14.ipynb',\n",
       " 'Assignment_15.ipynb',\n",
       " 'Assignment_16.ipynb',\n",
       " 'Assignment_17.ipynb',\n",
       " 'Assignment_18.ipynb',\n",
       " 'Assignment_19.ipynb',\n",
       " 'Assignment_2.ipynb',\n",
       " 'Assignment_20.ipynb',\n",
       " 'Assignment_3.ipynb',\n",
       " 'Assignment_4.ipynb',\n",
       " 'Assignment_5.ipynb',\n",
       " 'Assignment_6.ipynb',\n",
       " 'Assignment_7.ipynb',\n",
       " 'Assignment_8.ipynb',\n",
       " 'Assignment_9.ipynb',\n",
       " 'books.csv',\n",
       " 'books.db',\n",
       " 'down.jpg',\n",
       " 'main.py',\n",
       " 'sample.pdf',\n",
       " 'test.txt',\n",
       " 'today.txt',\n",
       " 'Untitled.ipynb',\n",
       " 'zoo.py']"
      ]
     },
     "execution_count": 4,
     "metadata": {},
     "output_type": "execute_result"
    }
   ],
   "source": [
    "import os\n",
    "files1 = []\n",
    "for item in os.listdir(\".\"):\n",
    "    if os.path.isfile(item):\n",
    "        files1.append(item)\n",
    "files1"
   ]
  },
  {
   "cell_type": "markdown",
   "id": "420aadd1",
   "metadata": {},
   "source": [
    "### 5. Create a list of all of the files in your parent directory (minimum five files should be available)."
   ]
  },
  {
   "cell_type": "code",
   "execution_count": 5,
   "id": "696da0cd",
   "metadata": {},
   "outputs": [
    {
     "data": {
      "text/plain": [
       "'D:\\\\Jupyter Notebook\\\\iNeuron\\\\Assignments'"
      ]
     },
     "execution_count": 5,
     "metadata": {},
     "output_type": "execute_result"
    }
   ],
   "source": [
    "os.getcwd()"
   ]
  },
  {
   "cell_type": "code",
   "execution_count": 6,
   "id": "4df06ad5",
   "metadata": {},
   "outputs": [
    {
     "data": {
      "text/plain": [
       "'D:\\\\Jupyter Notebook\\\\iNeuron'"
      ]
     },
     "execution_count": 6,
     "metadata": {},
     "output_type": "execute_result"
    }
   ],
   "source": [
    "os.chdir(\"..\")\n",
    "os.getcwd()"
   ]
  },
  {
   "cell_type": "code",
   "execution_count": 7,
   "id": "cee3f2b8",
   "metadata": {},
   "outputs": [
    {
     "data": {
      "text/plain": [
       "['text1.txt', 'text2.txt', 'text3.txt', 'text4.txt', 'text5.txt', 'text6.txt']"
      ]
     },
     "execution_count": 7,
     "metadata": {},
     "output_type": "execute_result"
    }
   ],
   "source": [
    "files2 = []\n",
    "for item in os.listdir(\".\"):\n",
    "    if os.path.isfile(item):\n",
    "        files2.append(item)\n",
    "files2"
   ]
  },
  {
   "cell_type": "markdown",
   "id": "482eef33",
   "metadata": {},
   "source": [
    "### 6. Use multiprocessing to create three separate processes. Make each one wait a random number of seconds between one and five, print the current time, and then exit."
   ]
  },
  {
   "cell_type": "markdown",
   "id": "e5536b3d",
   "metadata": {},
   "source": [
    "#### Here is the code : "
   ]
  },
  {
   "cell_type": "code",
   "execution_count": 8,
   "id": "c9f37ad5",
   "metadata": {},
   "outputs": [],
   "source": [
    "import multiprocessing\n",
    "import time\n",
    "from random import randint\n",
    "from datetime import datetime\n",
    "\n",
    "def pro():\n",
    "    sec = randint(1,5)\n",
    "\n",
    "    print(f\"sleeping for {sec} seconds, time : {datetime.now()}\")\n",
    "    time.sleep(sec)\n",
    "    print(f\"{sec}s done.\")\n",
    "\n",
    "if __name__ == '__main__':\n",
    "    for _ in range(3):\n",
    "        p = multiprocessing.Process(target=pro)\n",
    "        p.start()"
   ]
  },
  {
   "cell_type": "code",
   "execution_count": 9,
   "id": "63d90e97",
   "metadata": {},
   "outputs": [],
   "source": [
    "os.chdir('D:\\\\Jupyter Notebook\\\\iNeuron\\\\Assignments')"
   ]
  },
  {
   "cell_type": "code",
   "execution_count": 10,
   "id": "5d3c9ba6",
   "metadata": {},
   "outputs": [
    {
     "name": "stdout",
     "output_type": "stream",
     "text": [
      "sleeping for 2 seconds, time : 2022-09-29 19:42:54.644517\n",
      "sleeping for 5 seconds, time : 2022-09-29 19:42:54.649527\n",
      "sleeping for 5 seconds, time : 2022-09-29 19:42:54.647169\n"
     ]
    }
   ],
   "source": [
    "!python main.py"
   ]
  },
  {
   "cell_type": "markdown",
   "id": "7590d8ea",
   "metadata": {},
   "source": [
    "### 7. Create a date object of your day of birth."
   ]
  },
  {
   "cell_type": "code",
   "execution_count": 11,
   "id": "8b2742c1",
   "metadata": {},
   "outputs": [
    {
     "data": {
      "text/plain": [
       "datetime.datetime(2002, 7, 5, 0, 0)"
      ]
     },
     "execution_count": 11,
     "metadata": {},
     "output_type": "execute_result"
    }
   ],
   "source": [
    "from datetime import datetime\n",
    "b_day = datetime(2002,7,5)\n",
    "b_day"
   ]
  },
  {
   "cell_type": "markdown",
   "id": "0824420e",
   "metadata": {},
   "source": [
    "### 8. What day of the week was your day of birth?"
   ]
  },
  {
   "cell_type": "code",
   "execution_count": 12,
   "id": "8beb03ee",
   "metadata": {},
   "outputs": [
    {
     "data": {
      "text/plain": [
       "'It is 5(Friday).'"
      ]
     },
     "execution_count": 12,
     "metadata": {},
     "output_type": "execute_result"
    }
   ],
   "source": [
    "b_day = datetime(2002,7,5)\n",
    "b_day.strftime(\"It is %w(%A).\")"
   ]
  },
  {
   "cell_type": "markdown",
   "id": "1ef62e9e",
   "metadata": {},
   "source": [
    "### 9. When will you be (or when were you) 10,000 days old?"
   ]
  },
  {
   "cell_type": "code",
   "execution_count": 13,
   "id": "03b8fdcd",
   "metadata": {},
   "outputs": [
    {
     "data": {
      "text/plain": [
       "'I will be 10,000 days old on 20-Nov-2029.'"
      ]
     },
     "execution_count": 13,
     "metadata": {},
     "output_type": "execute_result"
    }
   ],
   "source": [
    "import datetime\n",
    "\n",
    "d_obj = datetime.datetime.strptime(\"2002-07-05\",\"%Y-%m-%d\")\n",
    "\n",
    "ord_days = d_obj.toordinal()\n",
    "result = datetime.date.fromordinal(ord_days+10000)\n",
    "\n",
    "result.strftime(\"I will be 10,000 days old on %d-%b-%Y.\")"
   ]
  }
 ],
 "metadata": {
  "kernelspec": {
   "display_name": "Python 3 (ipykernel)",
   "language": "python",
   "name": "python3"
  },
  "language_info": {
   "codemirror_mode": {
    "name": "ipython",
    "version": 3
   },
   "file_extension": ".py",
   "mimetype": "text/x-python",
   "name": "python",
   "nbconvert_exporter": "python",
   "pygments_lexer": "ipython3",
   "version": "3.10.6"
  }
 },
 "nbformat": 4,
 "nbformat_minor": 5
}
