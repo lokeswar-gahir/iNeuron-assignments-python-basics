{
 "cells": [
  {
   "cell_type": "markdown",
   "id": "0ef281a3",
   "metadata": {},
   "source": [
    "### 1. What are escape characters, and how do you use them?\n",
    "\n",
    "Escape characters are the characters that are starts with an \"\\\\\" and each character performs different action.<br>\n",
    "These characters are generally used in strings.<br>\n",
    "For example : \n",
    "- \"\\n\" : for a new line\n",
    "- \"\\t\" : for tab\n",
    "- \"\\b\" : for backspace etc."
   ]
  },
  {
   "cell_type": "markdown",
   "id": "ee2e7548",
   "metadata": {},
   "source": [
    "### 2. What do the escape characters n and t stand for?\n",
    "\n",
    "- \"\\n\" : This represents a new line\n",
    "- \"\\t\" : This escape character is used for tab"
   ]
  },
  {
   "cell_type": "markdown",
   "id": "577335e3",
   "metadata": {},
   "source": [
    "### 3. What is the way to include backslash characters in a string?"
   ]
  },
  {
   "cell_type": "code",
   "execution_count": 1,
   "id": "86f6c3cf",
   "metadata": {},
   "outputs": [
    {
     "name": "stdout",
     "output_type": "stream",
     "text": [
      "\\This is a test string\\\n"
     ]
    }
   ],
   "source": [
    "st1 = \"\\\\This is a test string\\\\\"\n",
    "print(st1)"
   ]
  },
  {
   "cell_type": "markdown",
   "id": "7095c094",
   "metadata": {},
   "source": [
    "### 4. The string &quot;Howl&#39;s Moving Castle&quot; is a correct value. Why isn&#39;t the single quote character in the word Howl&#39;s not escaped a problem?\n",
    "\n",
    "The single quote did not cause any problem, because double quotes are used while declaring the string."
   ]
  },
  {
   "cell_type": "markdown",
   "id": "6a3327c4",
   "metadata": {},
   "source": [
    "### 5. How do you write a string of newlines if you don&#39;t want to use the n character?"
   ]
  },
  {
   "cell_type": "code",
   "execution_count": 2,
   "id": "2fe61563",
   "metadata": {},
   "outputs": [
    {
     "name": "stdout",
     "output_type": "stream",
     "text": [
      "Here,\n",
      "threre is no need of \\n character\n",
      "for new line creation.\n",
      "\n"
     ]
    }
   ],
   "source": [
    "st2 = '''Here,\n",
    "threre is no need of \\\\n character\n",
    "for new line creation.\n",
    "'''\n",
    "print(st2)"
   ]
  },
  {
   "cell_type": "markdown",
   "id": "2484b19c",
   "metadata": {},
   "source": [
    "### 6. What are the values of the given expressions?\n",
    "__&#39;Hello, world!&#39;[1]<br>\n",
    "&#39;Hello, world!&#39;[0:5]<br>\n",
    "&#39;Hello, world!&#39;[:5]<br>\n",
    "&#39;Hello, world!&#39;[3:]__<br>\n",
    "\n",
    "__Output -__<br>\n",
    "&#39;Hello, world!&#39;[1] : e<br>\n",
    "&#39;Hello, world!&#39;[0:5] : Hello<br>\n",
    "&#39;Hello, world!&#39;[:5] : Hello<br>\n",
    "&#39;Hello, world!&#39;[3:] : lo, world!<br>\n"
   ]
  },
  {
   "cell_type": "markdown",
   "id": "d158c681",
   "metadata": {},
   "source": [
    "### 7. What are the values of the following expressions?\n",
    "__&#39;Hello&#39;.upper()<br>\n",
    "&#39;Hello&#39;.upper().isupper()<br>\n",
    "&#39;Hello&#39;.upper().lower()__<br>\n",
    "\n",
    "__Output -__<br>\n",
    "&#39;Hello&#39;.upper() : HELLO<br>\n",
    "&#39;Hello&#39;.upper().isupper() : True<br>\n",
    "&#39;Hello&#39;.upper().lower() : hello<br>"
   ]
  },
  {
   "cell_type": "markdown",
   "id": "1676fdbf",
   "metadata": {},
   "source": [
    "### 8. What are the values of the following expressions?\n",
    "__&#39;Remember, remember, the fifth of July.&#39;.split()<br>\n",
    "&#39;-&#39;.join(&#39;There can only one.&#39;.split())__\n",
    "\n",
    "__output :__<br>\n",
    "&#39;Remember, remember, the fifth of July.&#39;.split() : ['Remember,', 'remember,', 'the', 'fifth', 'of', 'July.']<br>\n",
    "&#39;-&#39;.join(&#39;There can only one.&#39;.split()) : There-can-only-one."
   ]
  },
  {
   "cell_type": "markdown",
   "id": "5a1366ec",
   "metadata": {},
   "source": [
    "### 9. What are the methods for right-justifying, left-justifying, and centering a string?\n",
    "\n",
    "rjust() : for right-justifying<br>\n",
    "ljust() : for left-justifying<br>\n",
    "center() : for centering<br>"
   ]
  },
  {
   "cell_type": "markdown",
   "id": "fa1a4159",
   "metadata": {},
   "source": [
    "### 10. What is the best way to remove whitespace characters from the start or end?\n",
    "\n",
    "string.strip() is the best way to remove whitespace"
   ]
  },
  {
   "cell_type": "code",
   "execution_count": 3,
   "id": "4b4ef54e",
   "metadata": {},
   "outputs": [
    {
     "data": {
      "text/plain": [
       "'testing string'"
      ]
     },
     "execution_count": 3,
     "metadata": {},
     "output_type": "execute_result"
    }
   ],
   "source": [
    "\"      testing string        \".strip()"
   ]
  }
 ],
 "metadata": {
  "kernelspec": {
   "display_name": "Python 3 (ipykernel)",
   "language": "python",
   "name": "python3"
  },
  "language_info": {
   "codemirror_mode": {
    "name": "ipython",
    "version": 3
   },
   "file_extension": ".py",
   "mimetype": "text/x-python",
   "name": "python",
   "nbconvert_exporter": "python",
   "pygments_lexer": "ipython3",
   "version": "3.10.6"
  }
 },
 "nbformat": 4,
 "nbformat_minor": 5
}
