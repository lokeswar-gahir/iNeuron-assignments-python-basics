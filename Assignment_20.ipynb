{
 "cells": [
  {
   "cell_type": "markdown",
   "id": "052c204b",
   "metadata": {},
   "source": [
    "### 1. Set the variable test1 to the string &#39;This is a test of the emergency text system,&#39; and save test1 to a file named test.txt."
   ]
  },
  {
   "cell_type": "code",
   "execution_count": 1,
   "id": "678dbc64",
   "metadata": {},
   "outputs": [],
   "source": [
    "test1 = 'This is a test of the emergency text system,'\n",
    "with open(\"test.txt\",\"w\") as f:\n",
    "    f.write(test1)"
   ]
  },
  {
   "cell_type": "markdown",
   "id": "0845e841",
   "metadata": {},
   "source": [
    "### 2. Read the contents of the file test.txt into the variable test2. Is there a difference between test 1 and test 2?"
   ]
  },
  {
   "cell_type": "code",
   "execution_count": 2,
   "id": "668eafe8",
   "metadata": {},
   "outputs": [
    {
     "name": "stdout",
     "output_type": "stream",
     "text": [
      "This is a test of the emergency text system,\n"
     ]
    }
   ],
   "source": [
    "with open(\"test.txt\") as f:\n",
    "    test2 = f.read()\n",
    "print(test2)"
   ]
  },
  {
   "cell_type": "markdown",
   "id": "f9c31104",
   "metadata": {},
   "source": [
    "There is no difference between test1 and test2."
   ]
  },
  {
   "cell_type": "markdown",
   "id": "ddd062a5",
   "metadata": {},
   "source": [
    "### 3. Create a CSV file called books.csv by using these lines:\n",
    "title,author,year<br>\n",
    "The Weirdstone of Brisingamen,Alan Garner,1960<br>\n",
    "Perdido Street Station,China Miéville,2000<br>\n",
    "Thud!,Terry Pratchett,2005<br>\n",
    "The Spellman Files,Lisa Lutz,2007<br>\n",
    "Small Gods,Terry Pratchett,1992<br>"
   ]
  },
  {
   "cell_type": "code",
   "execution_count": 3,
   "id": "29123ff7",
   "metadata": {},
   "outputs": [],
   "source": [
    "st = '''title,author,year\n",
    "The Weirdstone of Brisingamen,Alan Garner,1960\n",
    "Perdido Street Station,China Miéville,2000\n",
    "Thud!,Terry Pratchett,2005\n",
    "The Spellman Files,Lisa Lutz,2007\n",
    "Small Gods,Terry Pratchett,1992\n",
    "'''\n",
    "\n",
    "with open(\"books.csv\" , \"w\", encoding=\"utf-8\") as f:\n",
    "    f.write(st)"
   ]
  },
  {
   "cell_type": "markdown",
   "id": "2ec78f25",
   "metadata": {},
   "source": [
    "### 4. Use the sqlite3 module to create a SQLite database called books.db, and a table called books with these fields: title (text), author (text), and year (integer)."
   ]
  },
  {
   "cell_type": "code",
   "execution_count": 4,
   "id": "077058f3",
   "metadata": {},
   "outputs": [],
   "source": [
    "import sqlite3\n",
    "conn = sqlite3.connect(\"books.db\")\n",
    "c = conn.cursor()"
   ]
  },
  {
   "cell_type": "code",
   "execution_count": 5,
   "id": "abc0b371",
   "metadata": {},
   "outputs": [],
   "source": [
    "c.execute(\"CREATE TABLE books(title varchar(30), author varchar(30), year int)\")\n",
    "conn.commit()"
   ]
  },
  {
   "cell_type": "markdown",
   "id": "68b4b1e1",
   "metadata": {},
   "source": [
    "### 5. Read books.csv and insert its data into the book table."
   ]
  },
  {
   "cell_type": "code",
   "execution_count": 6,
   "id": "8c83323e",
   "metadata": {},
   "outputs": [],
   "source": [
    "import pandas as pd\n",
    "df = pd.read_csv(\"books.csv\")"
   ]
  },
  {
   "cell_type": "code",
   "execution_count": 7,
   "id": "b483132c",
   "metadata": {},
   "outputs": [
    {
     "data": {
      "text/plain": [
       "5"
      ]
     },
     "execution_count": 7,
     "metadata": {},
     "output_type": "execute_result"
    }
   ],
   "source": [
    "df.to_sql(\"books\",conn, if_exists=\"append\",index = False)"
   ]
  },
  {
   "cell_type": "markdown",
   "id": "c3707e13",
   "metadata": {},
   "source": [
    "### 6. Select and print the title column from the book table in alphabetical order."
   ]
  },
  {
   "cell_type": "code",
   "execution_count": 8,
   "id": "35779e0a",
   "metadata": {},
   "outputs": [
    {
     "name": "stdout",
     "output_type": "stream",
     "text": [
      "('Perdido Street Station',)\n",
      "('Small Gods',)\n",
      "('The Spellman Files',)\n",
      "('The Weirdstone of Brisingamen',)\n",
      "('Thud!',)\n"
     ]
    }
   ],
   "source": [
    "for item in c.execute(\"select title from books order by title\"):\n",
    "    print(item)"
   ]
  },
  {
   "cell_type": "markdown",
   "id": "dd2d72b6",
   "metadata": {},
   "source": [
    "### 7. From the book table, select and print all columns in the order of publication."
   ]
  },
  {
   "cell_type": "code",
   "execution_count": 9,
   "id": "8a427e4b",
   "metadata": {},
   "outputs": [
    {
     "name": "stdout",
     "output_type": "stream",
     "text": [
      "('The Weirdstone of Brisingamen', 'Alan Garner', 1960)\n",
      "('Small Gods', 'Terry Pratchett', 1992)\n",
      "('Perdido Street Station', 'China Miéville', 2000)\n",
      "('Thud!', 'Terry Pratchett', 2005)\n",
      "('The Spellman Files', 'Lisa Lutz', 2007)\n"
     ]
    }
   ],
   "source": [
    "for item in c.execute(\"select * from books order by year\"):\n",
    "    print(item)"
   ]
  },
  {
   "cell_type": "markdown",
   "id": "99b798b8",
   "metadata": {},
   "source": [
    "### 8. Use the sqlalchemy module to connect to the sqlite3 database books.db that you just made in exercise 6."
   ]
  },
  {
   "cell_type": "code",
   "execution_count": 10,
   "id": "51189a8c",
   "metadata": {},
   "outputs": [],
   "source": [
    "import sqlalchemy"
   ]
  },
  {
   "cell_type": "code",
   "execution_count": 11,
   "id": "00c76fe1",
   "metadata": {},
   "outputs": [
    {
     "name": "stdout",
     "output_type": "stream",
     "text": [
      "('The Weirdstone of Brisingamen', 'Alan Garner', 1960)\n",
      "('Perdido Street Station', 'China Miéville', 2000)\n",
      "('Thud!', 'Terry Pratchett', 2005)\n",
      "('The Spellman Files', 'Lisa Lutz', 2007)\n",
      "('Small Gods', 'Terry Pratchett', 1992)\n"
     ]
    }
   ],
   "source": [
    "conn = sqlalchemy.create_engine(\"sqlite:///books.db\")\n",
    "for item in conn.execute(\"SELECT * FROM books\"):\n",
    "    print(item)"
   ]
  },
  {
   "cell_type": "markdown",
   "id": "bdb33089",
   "metadata": {},
   "source": [
    "### 9. Install the Redis server and the Python redis library (pip install redis) on your computer. Create a Redis hash called test with the fields count (1) and name (&#39;Fester Bestertester&#39;). Print all the fields for test."
   ]
  },
  {
   "cell_type": "code",
   "execution_count": 12,
   "id": "0b26f6fd",
   "metadata": {},
   "outputs": [],
   "source": [
    "import redis"
   ]
  },
  {
   "cell_type": "code",
   "execution_count": 13,
   "id": "3389b076",
   "metadata": {},
   "outputs": [],
   "source": [
    "test = redis.StrictRedis(host=\"localhost\", port=6379, decode_responses = True)"
   ]
  },
  {
   "cell_type": "code",
   "execution_count": 14,
   "id": "5b31dcb8",
   "metadata": {},
   "outputs": [
    {
     "data": {
      "text/plain": [
       "True"
      ]
     },
     "execution_count": 14,
     "metadata": {},
     "output_type": "execute_result"
    }
   ],
   "source": [
    "test.set(\"count\",1)"
   ]
  },
  {
   "cell_type": "code",
   "execution_count": 15,
   "id": "528b6c77",
   "metadata": {},
   "outputs": [
    {
     "data": {
      "text/plain": [
       "True"
      ]
     },
     "execution_count": 15,
     "metadata": {},
     "output_type": "execute_result"
    }
   ],
   "source": [
    "test.set(\"name\",\"Fester Bestertester\")"
   ]
  },
  {
   "cell_type": "code",
   "execution_count": 16,
   "id": "00f34c12",
   "metadata": {},
   "outputs": [],
   "source": [
    "count = test.get(\"count\")\n",
    "name = test.get(\"name\")"
   ]
  },
  {
   "cell_type": "code",
   "execution_count": 17,
   "id": "14f7d424",
   "metadata": {},
   "outputs": [
    {
     "name": "stdout",
     "output_type": "stream",
     "text": [
      "1\n",
      "Fester Bestertester\n"
     ]
    }
   ],
   "source": [
    "print(count)\n",
    "print(name)"
   ]
  },
  {
   "cell_type": "markdown",
   "id": "922c1c59",
   "metadata": {},
   "source": [
    "### 10. Increment the count field of test and print it."
   ]
  },
  {
   "cell_type": "code",
   "execution_count": 18,
   "id": "f2784226",
   "metadata": {},
   "outputs": [
    {
     "name": "stdout",
     "output_type": "stream",
     "text": [
      "Before :  1\n",
      "After :  2\n"
     ]
    }
   ],
   "source": [
    "print(\"Before : \",test.get(\"count\"))\n",
    "test.incr(\"count\")\n",
    "print(\"After : \",test.get(\"count\"))"
   ]
  }
 ],
 "metadata": {
  "kernelspec": {
   "display_name": "Python 3 (ipykernel)",
   "language": "python",
   "name": "python3"
  },
  "language_info": {
   "codemirror_mode": {
    "name": "ipython",
    "version": 3
   },
   "file_extension": ".py",
   "mimetype": "text/x-python",
   "name": "python",
   "nbconvert_exporter": "python",
   "pygments_lexer": "ipython3",
   "version": "3.10.6"
  }
 },
 "nbformat": 4,
 "nbformat_minor": 5
}
