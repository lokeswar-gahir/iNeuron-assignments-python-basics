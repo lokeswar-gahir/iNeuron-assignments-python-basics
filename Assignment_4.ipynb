{
 "cells": [
  {
   "cell_type": "markdown",
   "id": "ac22de28",
   "metadata": {},
   "source": [
    "### 1. What exactly is []?\n",
    "\n",
    "This is a list having 0 elements in it. It is also called an empty list."
   ]
  },
  {
   "cell_type": "markdown",
   "id": "446139d4",
   "metadata": {},
   "source": [
    "### 2. In a list of values stored in a variable called spam, how would you assign the value &#39;hello&#39; as the third value? (Assume [2, 4, 6, 8, 10] are in spam.)\n",
    "\n",
    "For modifying third value : "
   ]
  },
  {
   "cell_type": "code",
   "execution_count": 1,
   "id": "6dac75d0",
   "metadata": {},
   "outputs": [
    {
     "data": {
      "text/plain": [
       "[2, 4, 'hello', 8, 10]"
      ]
     },
     "execution_count": 1,
     "metadata": {},
     "output_type": "execute_result"
    }
   ],
   "source": [
    "spam = [2, 4, 6, 8, 10]\n",
    "spam[2] = \"hello\"\n",
    "spam"
   ]
  },
  {
   "cell_type": "markdown",
   "id": "6dd2a0b4",
   "metadata": {},
   "source": [
    "# Let&#39;s pretend the spam includes the list [&#39;a&#39;, &#39;b&#39;, &#39;c&#39;, &#39;d&#39;] for the next three queries."
   ]
  },
  {
   "cell_type": "markdown",
   "id": "e7585b6e",
   "metadata": {},
   "source": [
    "### 3. What is the value of spam[int(int(&#39;3&#39; * 2) / 11)]?\n",
    "\n",
    "The value will be : d"
   ]
  },
  {
   "cell_type": "markdown",
   "id": "f234b64d",
   "metadata": {},
   "source": [
    "### 4. What is the value of spam[-1]?\n",
    "\n",
    "The value will be : d"
   ]
  },
  {
   "cell_type": "markdown",
   "id": "ac75ca1a",
   "metadata": {},
   "source": [
    "### 5. What is the value of spam[:2]?\n",
    "\n",
    "The value will be : ['a','b']"
   ]
  },
  {
   "cell_type": "markdown",
   "id": "6d303f23",
   "metadata": {},
   "source": [
    "# Let&#39;s pretend bacon has the list [3.14, &#39;cat,&#39; 11, &#39;cat,&#39; True] for the next three questions."
   ]
  },
  {
   "cell_type": "markdown",
   "id": "f3ba1c34",
   "metadata": {},
   "source": [
    "### 6. What is the value of bacon.index(&#39;cat&#39;)?\n",
    "\n",
    "The index will be : 1(It returns the index of first occurence of given element)"
   ]
  },
  {
   "cell_type": "markdown",
   "id": "3fa2bcde",
   "metadata": {},
   "source": [
    "### 7. How does bacon.append(99) change the look of the list value in bacon?\n",
    "\n",
    "The list will look like : [3.14, 'cat', 11, 'cat', True, 99]"
   ]
  },
  {
   "cell_type": "markdown",
   "id": "230e9465",
   "metadata": {},
   "source": [
    "### 8. How does bacon.remove(&#39;cat&#39;) change the look of the list in bacon?\n",
    "\n",
    "The list will look like : [3.14, 11, 'cat', True, 99]"
   ]
  },
  {
   "cell_type": "markdown",
   "id": "8e83985e",
   "metadata": {},
   "source": [
    "### 9. What are the list concatenation and list replication operators?\n",
    "\n",
    "The list concatination operator is : +<br>\n",
    "The list replication operator is : *"
   ]
  },
  {
   "cell_type": "markdown",
   "id": "646851ab",
   "metadata": {},
   "source": [
    "### 10. What is difference between the list methods append() and insert()?\n",
    "\n",
    "append() : This method always adds the element at the end position.<br>\n",
    "insert() : This method can insert the element at any position."
   ]
  },
  {
   "cell_type": "markdown",
   "id": "44b9b912",
   "metadata": {},
   "source": [
    "### 11. What are the two methods for removing items from a list?\n",
    "\n",
    "Methods to remove items from list : pop(), remove()"
   ]
  },
  {
   "cell_type": "markdown",
   "id": "ef93786f",
   "metadata": {},
   "source": [
    "### 12. Describe how list values and string values are identical.\n",
    "\n",
    "Both list and string values :\n",
    "- can be passed to len() function\n",
    "- have indexes and slices\n",
    "- can be used in for loops\n",
    "- can be concatenated or replicated\n",
    "- can be used with the in and not in operators"
   ]
  },
  {
   "cell_type": "markdown",
   "id": "3d8692e9",
   "metadata": {},
   "source": [
    "### 13. What&#39;s the difference between tuples and lists?\n",
    "\n",
    "Tuple : It is immutable, parenthesis is used while declaring the variable<br>\n",
    "List : It is mutable, square bracket is used while declaring the variable"
   ]
  },
  {
   "cell_type": "markdown",
   "id": "d3379e68",
   "metadata": {},
   "source": [
    "### 14. How do you type a tuple value that only contains the integer 42?"
   ]
  },
  {
   "cell_type": "code",
   "execution_count": 2,
   "id": "88f0e42b",
   "metadata": {},
   "outputs": [
    {
     "data": {
      "text/plain": [
       "tuple"
      ]
     },
     "execution_count": 2,
     "metadata": {},
     "output_type": "execute_result"
    }
   ],
   "source": [
    "var = (42,)\n",
    "type(var)"
   ]
  },
  {
   "cell_type": "markdown",
   "id": "9fdc9329",
   "metadata": {},
   "source": [
    "### 15. How do you get a list value&#39;s tuple form? How do you get a tuple value&#39;s list form?\n",
    "\n",
    "if list1 is a list :"
   ]
  },
  {
   "cell_type": "code",
   "execution_count": 3,
   "id": "32224ded",
   "metadata": {},
   "outputs": [
    {
     "name": "stdout",
     "output_type": "stream",
     "text": [
      "Before :  <class 'list'>\n",
      "After :  <class 'tuple'>\n"
     ]
    }
   ],
   "source": [
    "list1 = [1,2,3]\n",
    "print('Before : ',type(list1))\n",
    "list1 = tuple(list1)\n",
    "print('After : ',type(list1))"
   ]
  },
  {
   "cell_type": "markdown",
   "id": "9a1c3fa3",
   "metadata": {},
   "source": [
    "if tup1 is a tuple :"
   ]
  },
  {
   "cell_type": "code",
   "execution_count": 4,
   "id": "cfbb7a2d",
   "metadata": {},
   "outputs": [
    {
     "name": "stdout",
     "output_type": "stream",
     "text": [
      "Before :  <class 'tuple'>\n",
      "After :  <class 'list'>\n"
     ]
    }
   ],
   "source": [
    "tup1 = (1,2,3)\n",
    "print('Before : ',type(tup1))\n",
    "tup1 = list(tup1)\n",
    "print('After : ',type(tup1))"
   ]
  },
  {
   "cell_type": "markdown",
   "id": "648d7adf",
   "metadata": {},
   "source": [
    "### 16. Variables that &quot;contain&quot; list values are not necessarily lists themselves. Instead, what do they contain?\n",
    "\n",
    "They contain the memory location of that list."
   ]
  },
  {
   "cell_type": "markdown",
   "id": "9769d1f7",
   "metadata": {},
   "source": [
    "### 17. How do you distinguish between copy.copy() and copy.deepcopy()?\n",
    "\n",
    "- copy.copy() : It makes the copy of a list, but it stores the memory location of the elements which are lists. That is why any change in the list element will reflect in the duplicate element also.<br>\n",
    "- copy.deepcopy() : It also makes copy of a list, but it does not refer to the memory location of the elements which are lists. So we can say this method truly makes the copy which have independent memory locations."
   ]
  }
 ],
 "metadata": {
  "kernelspec": {
   "display_name": "Python 3 (ipykernel)",
   "language": "python",
   "name": "python3"
  },
  "language_info": {
   "codemirror_mode": {
    "name": "ipython",
    "version": 3
   },
   "file_extension": ".py",
   "mimetype": "text/x-python",
   "name": "python",
   "nbconvert_exporter": "python",
   "pygments_lexer": "ipython3",
   "version": "3.10.6"
  }
 },
 "nbformat": 4,
 "nbformat_minor": 5
}
