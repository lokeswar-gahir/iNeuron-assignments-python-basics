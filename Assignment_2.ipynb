{
 "cells": [
  {
   "cell_type": "markdown",
   "id": "a32bd049",
   "metadata": {},
   "source": [
    "### 1.What are the two values of the Boolean data type? How do you write them?\n",
    "Answer :\n",
    "\n",
    "Two boolean values are 'True' and 'False'.<br>\n",
    "We can write this by capatalize the first letter of the word true and false."
   ]
  },
  {
   "cell_type": "markdown",
   "id": "4a7c2386",
   "metadata": {},
   "source": [
    "### 2. What are the three different types of Boolean operators?\n",
    "Answer :\n",
    "\n",
    "Three different types of Boolean operators are : AND, OR, NOT."
   ]
  },
  {
   "cell_type": "markdown",
   "id": "3c4123d2",
   "metadata": {},
   "source": [
    "### 3. Make a list of each Boolean operator&#39;s truth tables (i.e. every possible combination of Boolean values for the operator and what it evaluate ).\n",
    "Answer :\n",
    "\n",
    "----AND----<BR>\n",
    "True AND True : True<BR>\n",
    "True AND False : False<BR>\n",
    "False AND True : False<BR>\n",
    "False AND False : False<BR>\n",
    "    \n",
    "----OR----<BR>\n",
    "True OR True : True<BR>\n",
    "True OR False : True<BR>\n",
    "False OR True : True<BR>\n",
    "False OR False : False<BR>\n",
    "    \n",
    "----NOT----<BR>\n",
    "NOT True : False<BR>\n",
    "NOT False : True<BR>"
   ]
  },
  {
   "cell_type": "markdown",
   "id": "ad7f1af9",
   "metadata": {},
   "source": [
    "### 4. What are the values of the following expressions?\n",
    "__(5 &gt; 4) and (3 == 5)<br>\n",
    "not (5 &gt; 4)<br>\n",
    "(5 &gt; 4) or (3 == 5)<br>\n",
    "not ((5 &gt; 4) or (3 == 5))<br>\n",
    "(True and True) and (True == False)<br>\n",
    "(not False) or (not True)__\n",
    "\n",
    "Answer:\n",
    "\n",
    "(5 &gt; 4) and (3 == 5) : False<br>\n",
    "(5 &gt; 4) : True<br>\n",
    "(5 &gt; 4) or (3 == 5) : True<br>\n",
    "not ((5 &gt; 4) or (3 == 5)) : False<br>\n",
    "(True and True) and (True == False) : False<br>\n",
    "(not False) or (not True) : True\n"
   ]
  },
  {
   "cell_type": "markdown",
   "id": "81537c95",
   "metadata": {},
   "source": [
    "### 5. What are the six comparison operators?\n",
    "Answer:\n",
    "Six comparision operators are : \n",
    "1. ==\n",
    "2. !=\n",
    "3. \\>\n",
    "4. <\n",
    "5. \\>=\n",
    "6. <="
   ]
  },
  {
   "cell_type": "markdown",
   "id": "6a82cc44",
   "metadata": {},
   "source": [
    "### 6. How do you tell the difference between the equal to and assignment operators?Describe a condition and when you would use one.\n",
    "Answer:\n",
    "\n",
    "'=' : assignment operator (assigns value to the variable)\n",
    "'==' : comparision operator (compares the values between two variables)\n",
    "\n",
    "If a and b are two variables,\n",
    "\n",
    "to assign a value to variable 'a' I will use '='.<br>\n",
    "to compare that wheather variable 'a' and 'b' are equal or not I will use '=='."
   ]
  },
  {
   "cell_type": "markdown",
   "id": "81a379bd",
   "metadata": {},
   "source": [
    "### 7. Identify the three blocks in this code:\n",
    "__spam = 0<br>\n",
    "if spam == 10:<br>\n",
    "print(&#39;eggs&#39;)<br>\n",
    "if spam &gt; 5:<br>\n",
    "print(&#39;bacon&#39;)<br>\n",
    "else:<br>\n",
    "print(&#39;ham&#39;)<br>\n",
    "print(&#39;spam&#39;)<br>\n",
    "print(&#39;spam&#39;)__\n",
    "\n",
    "Answer:\n",
    "\n",
    "if spam == 10:    # first block<br>\n",
    "print(&#39;eggs&#39;)\n",
    "\n",
    "if spam &gt; 5:   # scond block<br>\n",
    "print(&#39;bacon&#39;)\n",
    "\n",
    "else:             # third block<br>\n",
    "print(&#39;ham&#39;)<br>\n",
    "print(&#39;spam&#39;)<br>\n",
    "print(&#39;spam&#39;)"
   ]
  },
  {
   "cell_type": "markdown",
   "id": "e4285001",
   "metadata": {},
   "source": [
    "### 8. Write code that prints Hello if 1 is stored in spam, prints Howdy if 2 is stored in spam, and prints Greetings! if anything else is stored in spam."
   ]
  },
  {
   "cell_type": "code",
   "execution_count": 1,
   "id": "a301a186",
   "metadata": {},
   "outputs": [
    {
     "name": "stdout",
     "output_type": "stream",
     "text": [
      "Greetings!\n"
     ]
    }
   ],
   "source": [
    "spam = 0\n",
    "if spam == 1:\n",
    "    print(\"Hello\")\n",
    "elif spam == 2:\n",
    "    print(\"Howdy\")\n",
    "else:\n",
    "    print(\"Greetings!\")"
   ]
  },
  {
   "cell_type": "markdown",
   "id": "ca80b0f6",
   "metadata": {},
   "source": [
    "### 9.If your programme is stuck in an endless loop, what keys you’ll press?\n",
    "Answer:\n",
    "\n",
    "Threr are two things i can do :\n",
    "1. Interrupt the kernel (pressing 'I' key 2 times)\n",
    "2. restart the kernel (pressing '0'(zero) key 2 times)"
   ]
  },
  {
   "cell_type": "markdown",
   "id": "3ef92c13",
   "metadata": {},
   "source": [
    "### 10. How can you tell the difference between break and continue?\n",
    "Answer:\n",
    "\n",
    "break : This statement is used to break the current loop<br>\n",
    "continue : this statement ignores every instruction that is written after it and executes the next iteration in the loop"
   ]
  },
  {
   "cell_type": "markdown",
   "id": "3a7ff715",
   "metadata": {},
   "source": [
    "### 11. In a for loop, what is the difference between range(10), range(0, 10), and range(0, 10, 1)?\n",
    "Answer:\n",
    "\n",
    "There will be no difference visually or technically between these 3 loops.\n",
    "\n",
    "range(10):<br> \n",
    "Here the argument '10' specifies that run the loop 10 times, starting from 0 untill 9.\n<br>",
    "Default starting value is 0 and default jump step is 1.<br>",
    "range(0,10):<br>\n",
    "Here the arguments 0 and 10 specifies that start from 0 and go untill 9, there will be 10 iterations.<br>",
    "Default jump step is 1.",
    "range(0,10,1):<br>\n",
    "Here 0, 10, 1 specifies that start form 0 and go untill 9 and jump by 1 step, so there will be 10 iterations also. "
   ]
  },
  {
   "cell_type": "markdown",
   "id": "9f0fb6a1",
   "metadata": {},
   "source": [
    "### 12. Write a short program that prints the numbers 1 to 10 using a for loop. Then write an equivalent program that prints the numbers 1 to 10 using a while loop.\n",
    "Answer:\n"
   ]
  },
  {
   "cell_type": "code",
   "execution_count": 2,
   "id": "0ba690f0",
   "metadata": {},
   "outputs": [
    {
     "name": "stdout",
     "output_type": "stream",
     "text": [
      "1\n",
      "2\n",
      "3\n",
      "4\n",
      "5\n",
      "6\n",
      "7\n",
      "8\n",
      "9\n",
      "10\n"
     ]
    }
   ],
   "source": [
    "# using for loop\n",
    "for i in range(10):\n",
    "    print(i+1)"
   ]
  },
  {
   "cell_type": "code",
   "execution_count": 3,
   "id": "cce12e9b",
   "metadata": {
    "scrolled": true
   },
   "outputs": [
    {
     "name": "stdout",
     "output_type": "stream",
     "text": [
      "1\n",
      "2\n",
      "3\n",
      "4\n",
      "5\n",
      "6\n",
      "7\n",
      "8\n",
      "9\n",
      "10\n"
     ]
    }
   ],
   "source": [
    "#using while loop\n",
    "i=1\n",
    "while i<=10:\n",
    "    print(i)\n",
    "    i = i+1"
   ]
  },
  {
   "cell_type": "markdown",
   "id": "500e73de",
   "metadata": {},
   "source": [
    "### 13. If you had a function named bacon() inside a module named spam, how would you call it after importing spam?\n",
    "Answer:\n",
    "\n",
    "After importing I will call that function as spam.bacon()"
   ]
  }
 ],
 "metadata": {
  "kernelspec": {
   "display_name": "Python 3 (ipykernel)",
   "language": "python",
   "name": "python3"
  },
  "language_info": {
   "codemirror_mode": {
    "name": "ipython",
    "version": 3
   },
   "file_extension": ".py",
   "mimetype": "text/x-python",
   "name": "python",
   "nbconvert_exporter": "python",
   "pygments_lexer": "ipython3",
   "version": "3.10.6"
  }
 },
 "nbformat": 4,
 "nbformat_minor": 5
}
