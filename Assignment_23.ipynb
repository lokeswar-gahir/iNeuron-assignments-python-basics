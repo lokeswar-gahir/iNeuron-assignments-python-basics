{
 "cells": [
  {
   "cell_type": "markdown",
   "id": "e5b7bc8e",
   "metadata": {},
   "source": [
    "### 1. What is the result of the code, and why?\n",
    "__&gt;&gt;&gt; def func(a, b=6, c=8):<br>\n",
    "print(a, b, c)<br>\n",
    "&gt;&gt;&gt; func(1, 2)__"
   ]
  },
  {
   "cell_type": "markdown",
   "id": "09b09854",
   "metadata": {},
   "source": [
    "This code will print '1 2 8'.<br>\n",
    "The default value of c is 8."
   ]
  },
  {
   "cell_type": "markdown",
   "id": "d2cb4241",
   "metadata": {},
   "source": [
    "### 2. What is the result of this code, and why?\n",
    "__&gt;&gt;&gt; def func(a, b, c=5):<br>\n",
    "print(a, b, c)<br>\n",
    "&gt;&gt;&gt; func(1, c=3, b=2)__"
   ]
  },
  {
   "cell_type": "markdown",
   "id": "44ed974c",
   "metadata": {},
   "source": [
    "This code will print '1 2 3'.<br>\n",
    "Here values of b and c is explicitly assigned to 2 and 3 respectively. "
   ]
  },
  {
   "cell_type": "markdown",
   "id": "ed5f59a6",
   "metadata": {},
   "source": [
    "### 3. How about this code: what is its result, and why?\n",
    "__&gt;&gt;&gt; def func(a, *pargs):<br>\n",
    "print(a, pargs)<br>\n",
    "&gt;&gt;&gt; func(1, 2, 3)__"
   ]
  },
  {
   "cell_type": "markdown",
   "id": "f6cd7ff1",
   "metadata": {},
   "source": [
    "This code will print '1 2 3'.<br>\n",
    "Here value of a is 1 and 2, 3 are asssigned as \\*args."
   ]
  },
  {
   "cell_type": "markdown",
   "id": "ce72c4b6",
   "metadata": {},
   "source": [
    "### 4. What does this code print, and why?\n",
    "__&gt;&gt;&gt; def func(a, \\*\\*kargs):<br>\n",
    "print(a, kargs)<br>\n",
    "&gt;&gt;&gt; func(a=1, c=3, b=2)__"
   ]
  },
  {
   "cell_type": "markdown",
   "id": "92f7f7bd",
   "metadata": {},
   "source": [
    "This code will print 1 {'c' : 3, 'b' : 2}.<br>\n",
    "1 is assigned to a and c, b will be treated as \\*\\*kwargs argument."
   ]
  },
  {
   "cell_type": "markdown",
   "id": "1d1edf33",
   "metadata": {},
   "source": [
    "### 5. What gets printed by this, and explain?\n",
    "__&gt;&gt;&gt; def func(a, b, c=8, d=5):<br>\n",
    "print(a, b, c, d)<br>\n",
    "&gt;&gt;&gt; func(1, *(5, 6))__"
   ]
  },
  {
   "cell_type": "markdown",
   "id": "f46b7c2a",
   "metadata": {},
   "source": [
    "It will print '1 5 6 5'.<br>\n",
    "1 will be assigned to a , 5 and 6 will be assigned to b and c , default value of d is 5."
   ]
  },
  {
   "cell_type": "markdown",
   "id": "7116daba",
   "metadata": {},
   "source": [
    "### 6. what is the result of this, and explain?\n",
    "&gt;&gt;&gt; def func(a, b, c):<br>\n",
    "a = 2; b[0] = &#39;x&#39;; c[&#39;a&#39;] = &#39;y&#39;<br>\n",
    "&gt;&gt;&gt; l=1; m=[1]; n={&#39;a&#39;:0}<br>\n",
    "&gt;&gt;&gt; func(l, m, n)<br>\n",
    "&gt;&gt;&gt; l, m, n"
   ]
  },
  {
   "cell_type": "code",
   "execution_count": 9,
   "id": "c1536340",
   "metadata": {},
   "outputs": [
    {
     "data": {
      "text/plain": [
       "(1, ['x'], {'a': 'y'})"
      ]
     },
     "execution_count": 9,
     "metadata": {},
     "output_type": "execute_result"
    }
   ],
   "source": [
    "def func(a, b, c):\n",
    "    a = 2; b[0] = 'x'; c['a'] = 'y'\n",
    "l=1; m=[1]; n={'a':0}\n",
    "func(l, m, n)\n",
    "l, m, n"
   ]
  },
  {
   "cell_type": "markdown",
   "id": "a82b5bd9",
   "metadata": {},
   "source": [
    "The output is a tuple (1, ['x'], {'a': 'y'}).<br>\n",
    "Inside the function passed values are being modified so the output is like that."
   ]
  }
 ],
 "metadata": {
  "kernelspec": {
   "display_name": "Python 3 (ipykernel)",
   "language": "python",
   "name": "python3"
  },
  "language_info": {
   "codemirror_mode": {
    "name": "ipython",
    "version": 3
   },
   "file_extension": ".py",
   "mimetype": "text/x-python",
   "name": "python",
   "nbconvert_exporter": "python",
   "pygments_lexer": "ipython3",
   "version": "3.10.6"
  }
 },
 "nbformat": 4,
 "nbformat_minor": 5
}
