{
 "cells": [
  {
   "cell_type": "markdown",
   "id": "62d12068",
   "metadata": {},
   "source": [
    "### 1. Why are functions advantageous to have in your programs?\n",
    "Answer:\n",
    "\n",
    "Using function we do not need to write the same code again and again.<br>\n",
    "It makes program shorter, readable and easy to update."
   ]
  },
  {
   "cell_type": "markdown",
   "id": "fc63b0c3",
   "metadata": {},
   "source": [
    "### 2. When does the code in a function run: when it&#39;s specified or when it&#39;s called?\n",
    "Answer:\n",
    "\n",
    "The code inside a function runs only if it is called."
   ]
  },
  {
   "cell_type": "markdown",
   "id": "4a8db064",
   "metadata": {},
   "source": [
    "### 3. What statement creates a function?\n",
    "Answer:\n",
    "\n",
    "\"def\" statement in python creates a function."
   ]
  },
  {
   "cell_type": "markdown",
   "id": "3b0d7640",
   "metadata": {},
   "source": [
    "### 4. What is the difference between a function and a function call?\n",
    "Answer:\n",
    "\n",
    "A function is a set of instruction that is specified to perform.<br>\n",
    "but a function call is a statement where the specific function is being called and executed.\n",
    "\n",
    "for example - "
   ]
  },
  {
   "cell_type": "code",
   "execution_count": 1,
   "id": "517b5d5b",
   "metadata": {},
   "outputs": [
    {
     "name": "stdout",
     "output_type": "stream",
     "text": [
      "hello\n"
     ]
    }
   ],
   "source": [
    "def fun():\n",
    "    print(\"hello\")\n",
    "    \n",
    "fun()"
   ]
  },
  {
   "cell_type": "markdown",
   "id": "b821e652",
   "metadata": {},
   "source": [
    "First two line of above code is a function and the fourth line is function call."
   ]
  },
  {
   "cell_type": "markdown",
   "id": "72688361",
   "metadata": {},
   "source": [
    "### 5. How many global scopes are there in a Python program? How many local scopes?\n",
    "Answer:\n",
    "\n",
    "There is only one global scope and local scopes can be created at the time when a function is being specified. "
   ]
  },
  {
   "cell_type": "markdown",
   "id": "24501639",
   "metadata": {},
   "source": [
    "### 6. What happens to variables in a local scope when the function call returns?\n",
    "Answer:\n",
    "\n",
    "When a function call returns the variable under local scope got destroyed."
   ]
  },
  {
   "cell_type": "markdown",
   "id": "15832234",
   "metadata": {},
   "source": [
    "### 7. What is the concept of a return value? Is it possible to have a return value in an expression?\n",
    "Answer:\n",
    "\n",
    "A return value is a value that a function gives after performing some operations.<br>\n",
    "It is possible to use return value in an expression."
   ]
  },
  {
   "cell_type": "markdown",
   "id": "261b538c",
   "metadata": {},
   "source": [
    "### 8. If a function does not have a return statement, what is the return value of a call to that function?\n",
    "Answer:\n",
    "\n",
    "If a function does not have a return statement, then the return value will be none."
   ]
  },
  {
   "cell_type": "markdown",
   "id": "d824433f",
   "metadata": {},
   "source": [
    "### 9. How do you make a function variable refer to the global variable?\n",
    "Answer:\n",
    "\n",
    "Using global keyword it is possible."
   ]
  },
  {
   "cell_type": "markdown",
   "id": "82202aa9",
   "metadata": {},
   "source": [
    "### 10. What is the data type of None?\n",
    "Answer:\n",
    "\n",
    "Datatype of None is NoneType."
   ]
  },
  {
   "cell_type": "markdown",
   "id": "0659084d",
   "metadata": {},
   "source": [
    "### 11. What does the sentence import areallyourpetsnamederic do?\n",
    "Answer:\n",
    "\n",
    "The above statement will import a module named 'areallyourpetsnamederic', if it is available.Other wise it will raise an ModuleNotFoundError."
   ]
  },
  {
   "cell_type": "markdown",
   "id": "b100104a",
   "metadata": {},
   "source": [
    "### 12. If you had a bacon() feature in a spam module, what would you call it after importing spam?\n",
    "Answer:\n",
    "\n",
    "After importing spam the function can be called as spam.bacon()."
   ]
  },
  {
   "cell_type": "markdown",
   "id": "c43e2c23",
   "metadata": {},
   "source": [
    "### 13. What can you do to save a programme from crashing if it encounters an error?\n",
    "Answer:\n",
    "\n",
    "we can use try and except to prevent the program from crashing."
   ]
  },
  {
   "cell_type": "markdown",
   "id": "c12214a0",
   "metadata": {},
   "source": [
    "### 14. What is the purpose of the try clause? What is the purpose of the except clause?\n",
    "Answer:\n",
    "\n",
    "- 'try' block tries to execute the program, if any error occurs then the control flow is transfered to except block.<br>\n",
    "- 'except' block handles the error that has been raised from try block without affecting the control flow."
   ]
  }
 ],
 "metadata": {
  "kernelspec": {
   "display_name": "Python 3 (ipykernel)",
   "language": "python",
   "name": "python3"
  },
  "language_info": {
   "codemirror_mode": {
    "name": "ipython",
    "version": 3
   },
   "file_extension": ".py",
   "mimetype": "text/x-python",
   "name": "python",
   "nbconvert_exporter": "python",
   "pygments_lexer": "ipython3",
   "version": "3.10.6"
  }
 },
 "nbformat": 4,
 "nbformat_minor": 5
}
