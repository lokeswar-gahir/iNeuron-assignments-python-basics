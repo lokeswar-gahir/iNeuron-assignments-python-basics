{
 "cells": [
  {
   "cell_type": "markdown",
   "id": "12cbfc8e",
   "metadata": {},
   "source": [
    "### 1. To what does a relative path refer?\n",
    "\n",
    "Relative path refers to any file or directory with respect to the currently opened file."
   ]
  },
  {
   "cell_type": "markdown",
   "id": "51c8e16a",
   "metadata": {},
   "source": [
    "### 2. What does an absolute path start with your operating system?\n",
    "\n",
    "An absolute path starts from the root folder like / or C: or D: etc."
   ]
  },
  {
   "cell_type": "markdown",
   "id": "6d77e434",
   "metadata": {},
   "source": [
    "### 3. What do the functions os.getcwd() and os.chdir() do?\n",
    "\n",
    "os.getcwd() : This function returns the absolute path of current working directory<br>\n",
    "os.chdir() : This function is used to change the current working directory"
   ]
  },
  {
   "cell_type": "markdown",
   "id": "ebc03801",
   "metadata": {},
   "source": [
    "### 4. What are the . and .. folders?\n",
    "\n",
    ". folder : represents the current directory<br>\n",
    ".. folder : represents the parent directory"
   ]
  },
  {
   "cell_type": "markdown",
   "id": "77819cd7",
   "metadata": {},
   "source": [
    "### 5. In C:\\bacon\\eggs\\spam.txt, which part is the dir name, and which part is the base name?\n",
    "\n",
    "__C:\\bacon\\eggs\\__ is the directory name<br>\n",
    "__spam.txt__ represents the base file name"
   ]
  },
  {
   "cell_type": "markdown",
   "id": "f451af92",
   "metadata": {},
   "source": [
    "### 7. What happens if an existing file is opened in write mode?\n",
    "\n",
    "If a file is opened in write mode, previously stored content will be overwritten by the new content."
   ]
  },
  {
   "cell_type": "markdown",
   "id": "b991e431",
   "metadata": {},
   "source": [
    "### 8. How do you tell the difference between read() and readlines()?\n",
    "\n",
    "read() : reads the whole content of the file and returns entire content in a single string<br>\n",
    "readlines() : reads the whole content and returns each line as a string in a list"
   ]
  },
  {
   "cell_type": "markdown",
   "id": "a092ac3e",
   "metadata": {},
   "source": [
    "### 9. What data structure does a shelf value resemble?\n",
    "\n",
    "A shelf value resembles dictionary data structure"
   ]
  }
 ],
 "metadata": {
  "kernelspec": {
   "display_name": "Python 3 (ipykernel)",
   "language": "python",
   "name": "python3"
  },
  "language_info": {
   "codemirror_mode": {
    "name": "ipython",
    "version": 3
   },
   "file_extension": ".py",
   "mimetype": "text/x-python",
   "name": "python",
   "nbconvert_exporter": "python",
   "pygments_lexer": "ipython3",
   "version": "3.10.6"
  }
 },
 "nbformat": 4,
 "nbformat_minor": 5
}
