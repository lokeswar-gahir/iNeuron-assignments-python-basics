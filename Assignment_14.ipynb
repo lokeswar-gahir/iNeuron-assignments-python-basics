{
 "cells": [
  {
   "cell_type": "markdown",
   "id": "adaa4f2f",
   "metadata": {},
   "source": [
    "### 1. What does RGBA stand for?\n",
    "\n",
    "RGBA stands for Red, Green, Blue and Alpha(transparency)."
   ]
  },
  {
   "cell_type": "markdown",
   "id": "b2e09542",
   "metadata": {},
   "source": [
    "### 2. From the Pillow module, how do you get the RGBA value of any images?\n"
   ]
  },
  {
   "cell_type": "code",
   "execution_count": 1,
   "id": "73aada3b",
   "metadata": {},
   "outputs": [
    {
     "data": {
      "text/plain": [
       "(255, 165, 0, 255)"
      ]
     },
     "execution_count": 1,
     "metadata": {},
     "output_type": "execute_result"
    }
   ],
   "source": [
    "from PIL import ImageColor\n",
    "ImageColor.getcolor('orange', 'RGBA')"
   ]
  },
  {
   "cell_type": "markdown",
   "id": "dfc8d669",
   "metadata": {},
   "source": [
    "### 3. What is a box tuple, and how does it work?\n",
    "The box tuple is a tuple value containing four integers:\n",
    "- left edge x-coordinate\n",
    "- top edge y-coordinate\n",
    "- width\n",
    "- height"
   ]
  },
  {
   "cell_type": "markdown",
   "id": "073f0d15",
   "metadata": {},
   "source": [
    "### 4. Use your image and load in notebook then, How can you find out the width and height of an Image object?"
   ]
  },
  {
   "cell_type": "code",
   "execution_count": 2,
   "id": "9147270c",
   "metadata": {},
   "outputs": [
    {
     "data": {
      "text/plain": [
       "(729, 410)"
      ]
     },
     "execution_count": 2,
     "metadata": {},
     "output_type": "execute_result"
    }
   ],
   "source": [
    "from PIL import Image\n",
    "i = Image.open(\"down.jpg\")\n",
    "i.size"
   ]
  },
  {
   "cell_type": "markdown",
   "id": "19381761",
   "metadata": {},
   "source": [
    "### 5. What method would you call to get Image object for a 100×100 image, excluding the lower-left quarter of it?\n",
    "\n",
    "ImageObject.crop((0,50,50,100)).<br>\n",
    "Using above box tuple the lower-left quater will be returned."
   ]
  },
  {
   "cell_type": "markdown",
   "id": "5ffd54b4",
   "metadata": {},
   "source": [
    "### 6. After making changes to an Image object, how could you save it as an image file?\n",
    "\n",
    "ImageObject.save(\"filename.jpg\") this will save the image."
   ]
  },
  {
   "cell_type": "markdown",
   "id": "61f747ac",
   "metadata": {},
   "source": [
    "### 7. What module contains Pillow’s shape-drawing code?\n",
    "The ImageDraw module contains code to draw on images."
   ]
  },
  {
   "cell_type": "markdown",
   "id": "bfa133b6",
   "metadata": {},
   "source": [
    "### 8. Image objects do not have drawing methods. What kind of object does? How do you get this kind of object?\n",
    "ImageDrawObjects have shape-drawing methods such as point(), line(), or rectangle().<br>\n",
    "we can get the ImageDrawObject by passing ImageObject to the ImageDraw.Draw() function."
   ]
  }
 ],
 "metadata": {
  "kernelspec": {
   "display_name": "Python 3 (ipykernel)",
   "language": "python",
   "name": "python3"
  },
  "language_info": {
   "codemirror_mode": {
    "name": "ipython",
    "version": 3
   },
   "file_extension": ".py",
   "mimetype": "text/x-python",
   "name": "python",
   "nbconvert_exporter": "python",
   "pygments_lexer": "ipython3",
   "version": "3.10.6"
  }
 },
 "nbformat": 4,
 "nbformat_minor": 5
}
