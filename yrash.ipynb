{
 "cells": [
  {
   "cell_type": "markdown",
   "id": "00d5513d",
   "metadata": {},
   "source": [
    "## 1. In the below elements which of them are values or an expression? eg:- values can be integer or string and expressions will be mathematical operators.\n",
    "\n",
    "Answer:\n",
    " \\* : Expression\n",
    " \n",
    " 'hello' : Value\n",
    " \n",
    " -87.8 : Value\n",
    " \n",
    " \\- : Expression\n",
    " \n",
    " / : Expression\n",
    " \n",
    " \\+ : Expression\n",
    " \n",
    " 6 : Value\n",
    " "
   ]
  }
 ],
 "metadata": {
  "kernelspec": {
   "display_name": "Python 3 (ipykernel)",
   "language": "python",
   "name": "python3"
  },
  "language_info": {
   "codemirror_mode": {
    "name": "ipython",
    "version": 3
   },
   "file_extension": ".py",
   "mimetype": "text/x-python",
   "name": "python",
   "nbconvert_exporter": "python",
   "pygments_lexer": "ipython3",
   "version": "3.10.6"
  }
 },
 "nbformat": 4,
 "nbformat_minor": 5
}
