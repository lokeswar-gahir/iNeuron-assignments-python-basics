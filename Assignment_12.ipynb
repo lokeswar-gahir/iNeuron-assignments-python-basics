{
 "cells": [
  {
   "cell_type": "markdown",
   "id": "296fa15c",
   "metadata": {},
   "source": [
    "### 1. In what modes should the PdfFileReader() and PdfFileWriter() File objects will be opened?\n",
    "\n",
    "PdfFileReader() and PdfFileWriter() object can be opened in read binary(rb) and write binary(rb) modes."
   ]
  },
  {
   "cell_type": "markdown",
   "id": "4a5c0040",
   "metadata": {},
   "source": [
    "### 2. From a PdfFileReader object, how do you get a Page object for page 5?\n",
    "Using PdfFileReader.getPage(4) we will be able to get the PdfFileReader object of page 5."
   ]
  },
  {
   "cell_type": "markdown",
   "id": "615c4d36",
   "metadata": {},
   "source": [
    "### 3. What PdfFileReader variable stores the number of pages in the PDF document?\n",
    "\n",
    "PdfFileReader.getNumPage() stores the number of pages present in the pdf file."
   ]
  },
  {
   "cell_type": "markdown",
   "id": "6ab49f37",
   "metadata": {},
   "source": [
    "### 4. If a PdfFileReader object’s PDF is encrypted with the password swordfish, what must you do before you can obtain Page objects from it?\n",
    "PdfFileReader.decrypt(\"swordfish\") will open that file for use."
   ]
  },
  {
   "cell_type": "markdown",
   "id": "5461d0a6",
   "metadata": {},
   "source": [
    "### 5. What methods do you use to rotate a page?\n",
    "\n",
    "Using rotateClockwise() and rotateCounterClockwise() methods we will be able to rotate the page."
   ]
  },
  {
   "cell_type": "markdown",
   "id": "bc95232a",
   "metadata": {},
   "source": [
    "### 6. What is the difference between a Run object and a Paragraph object?\n",
    "Run : Run objects are contiguous groups of characters within a paragraph.<br>\n",
    "Paragraph : A paragraph begins on a new line and contains multiple runs. The Document object contains a list of Paragraph objects."
   ]
  },
  {
   "cell_type": "markdown",
   "id": "2c1a12ab",
   "metadata": {},
   "source": [
    "### 7. How do you obtain a list of Paragraph objects for a Document object that’s stored in a variable named doc?\n",
    "Doc.paragraphs will return the list of paragraph objects."
   ]
  },
  {
   "cell_type": "markdown",
   "id": "6337cc71",
   "metadata": {},
   "source": [
    "### 8. What type of object has bold, underline, italic, strike, and outline variables?\n",
    "\n",
    "The run object has these variables."
   ]
  },
  {
   "cell_type": "markdown",
   "id": "ef801055",
   "metadata": {},
   "source": [
    "### 9. What is the difference between False, True, and None for the bold variable?\n",
    "True : It always makes the Run object bolded <br>\n",
    "False : It does not apply bold style, regardless of the style’s bold setting<br>\n",
    "None : This will make the Run object to use the style’s bold setting"
   ]
  },
  {
   "cell_type": "markdown",
   "id": "40e2e383",
   "metadata": {},
   "source": [
    "### 10. How do you create a Document object for a new Word document?\n",
    "import docx<br>\n",
    "docx.Document()"
   ]
  },
  {
   "cell_type": "markdown",
   "id": "7e3d79f4",
   "metadata": {},
   "source": [
    "### 11. How do you add a paragraph with the text &#39;Hello, there!&#39; to a Document object stored in a variable named doc?\n",
    "doc.add_paragraph('Hello, there!') will add an paragraph to the word document."
   ]
  },
  {
   "cell_type": "markdown",
   "id": "f8907db7",
   "metadata": {},
   "source": [
    "### 12. What integers represent the levels of headings available in Word documents?\n",
    "Integers from 0 to 4 represents the heading level in the word documents."
   ]
  }
 ],
 "metadata": {
  "kernelspec": {
   "display_name": "Python 3 (ipykernel)",
   "language": "python",
   "name": "python3"
  },
  "language_info": {
   "codemirror_mode": {
    "name": "ipython",
    "version": 3
   },
   "file_extension": ".py",
   "mimetype": "text/x-python",
   "name": "python",
   "nbconvert_exporter": "python",
   "pygments_lexer": "ipython3",
   "version": "3.10.6"
  }
 },
 "nbformat": 4,
 "nbformat_minor": 5
}
